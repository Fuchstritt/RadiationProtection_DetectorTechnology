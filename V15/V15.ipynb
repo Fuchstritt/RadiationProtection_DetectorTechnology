{
 "metadata": {
  "language_info": {
   "codemirror_mode": {
    "name": "ipython",
    "version": 3
   },
   "file_extension": ".py",
   "mimetype": "text/x-python",
   "name": "python",
   "nbconvert_exporter": "python",
   "pygments_lexer": "ipython3",
   "version": 3
  },
  "orig_nbformat": 2
 },
 "nbformat": 4,
 "nbformat_minor": 2,
 "cells": [
  {
   "source": [
    "# Reichweite, Absorption und Durchdringungsfähigkeit von $\\alpha$-, $\\beta$- und $\\gamma$-Strahlung (Berthold LB 123 UMo mit LB 1236 und LB 1238)"
   ],
   "cell_type": "markdown",
   "metadata": {}
  },
  {
   "source": [
    "# Gasionisationsdetektoren  \n",
    "Das Funktionsprinzip von Gasionisationsdetektoren ist die Ausnutzung der ionisierenden Wechselwirkung zwischen der eintretenden, radioaktiven Strahlung und den Teilchen - bzw. genauer den Elektronenschalen - des Füllgases. Befinden sich die Ionen des Füllgases und die freien Elektronen in einem ausreichend starken äußeren elektrischen Feld, lassen sie sich zur Anode bzw. Kathode hin \"sortieren\" bevor sie dazu in der Lage sind zu rekombinieren, damit Ladungsneutral und letztlich unempfindlich gegenüber dem äußeren E-Feld zu werden.  \n",
    "Ist das äußere E-Feld nun so stark um die Ladungen derart zu beschleunigen, dass sie ihrerseits durch Kollisionen Gasatomen ionisieren, wird der Gasionisationsdetektor als _Proportionalzähler_ betrieben. Die Bezeichnung rührt von dem Zusammenhang $E \\propto N$ wobei $E$ das angelegte Feld und $N$ die Zählrate ist."
   ],
   "cell_type": "markdown",
   "metadata": {}
  },
  {
   "source": [
    "# Ionisationskammer, Proportionalzähler,   \n",
    "S.o."
   ],
   "cell_type": "markdown",
   "metadata": {}
  },
  {
   "source": [
    "# $\\alpha$, $\\beta$, $\\gamma$ - Strahlung  \n",
    "$\\alpha$-Strahlung bezeichnet ionisierende Strahlung, die meist ein Zerfallsprodukt instabiler Kerne ist und seinerseits ein $\\frac{4}{2}He$-Kern darstellt.  \n",
    "\n",
    "$\\beta$-Strahlung entsteht ähnlich der $\\alpha$-Strahlung bei Kernzerfällen. Hierbei wird jedoch ein Neutron in ein **Proton**, ein **Elektron** und ein **anti-Neutrino** umgewandelt. Auch möglich ist der Zerfall eines Protons unter Emission eines **Neutrons**, eines **Positrons** und eines **Neutrinos**. Es wird somit unterschieden in $\\beta^-$-Zerfälle\n",
    "\\begin{equation}\n",
    "    n \\longrightarrow p^+ + e^- + \\bar{\\nu}\n",
    "\\end{equation}\n",
    "und $\\beta^+$-Zerfälle\n",
    "\\begin{equation}\n",
    "    p^+ \\longrightarrow n + e^+ + \\nu\n",
    "\\end{equation}  \n",
    "\n",
    "$\\gamma$-Strahlung zuletzt meint vom Nukleus eines Atoms emmitierte elektromagnetische Strahlung."
   ],
   "cell_type": "markdown",
   "metadata": {}
  },
  {
   "source": [
    "# WW von Strahlung mit Materie"
   ],
   "cell_type": "markdown",
   "metadata": {}
  },
  {
   "source": [
    "# Nulleffekt (Nullrate)"
   ],
   "cell_type": "markdown",
   "metadata": {}
  },
  {
   "source": [
    "# Strontium-90, Ameritium-241, Kobalt-60  \n",
    "## Ameritium-241\n",
    "Das Isotop $^{241}_{95}Am$ ist ein $\\alpha$-Strahler nach\n",
    "\\begin{equation}\n",
    "    ^{241}_{95}Am \\longrightarrow ^{237}_{93}Np + \\alpha + \\gamma 59,54\\text{keV}\n",
    "\\end{equation}\n",
    "mit einer Halbwertszeit von $T_{1/2} = 432,2\\text{a}$ und einer Zerfallsenergie von $\\approx 5,486 \\text{MeV}$. Mit einem atomaren Gewicht von $241,06\\text{u}$ enthält $1\\text{g}$ $^{241}_{95}Am$ schätzungsweise\n",
    "\\begin{equation}\n",
    "    1\\text{u}^{-1} \\cdot {1,661 \\cdot 10^{-24}g \\cdot 241,06u} \\approx 2,5 \\cdot 10^{21}\n",
    "\\end{equation}\n",
    "Kerne.\n",
    "Somit ist nach $A(t) = \\frac{ln(2)}{T_{1/2}} \\cdot N_0 \\cdot e^{-\\frac{ln(2)}{T_{1/2}}t}$ mit etwa $1,27 \\cdot 10^{11}$ Zerfällen pro Sekunde zu rechnen.  \n",
    "\n",
    "Das Zerfallsprodukt $^{237}Np$ besitzt eine Halbwertszeit von $2,144 \\cdot 10^6\\text{a}$(!) und wird damit mit irrelevant für die Messung angenommen.  \n",
    "\n",
    "## Strontium-90\n",
    "Das Isotop $^{90}_{38}Sr$ zerfällt durch $\\beta^{-}$-Zerfall mit einer Halbwertszeit von $T_{1/2} = 28,8\\text{a}$ und einer Zerfallsenergie von $\\approx 0,546 \\text{MeV}$. Das Zerfallsprodukt ist Ytterium-90.\n",
    "\\begin{equation}\n",
    "    ^{90}_{38}St \\longrightarrow ^{90}_{39}Y + p^+ + e^- + \\bar{\\nu}\n",
    "\\end{equation}\n",
    "Mit einem atomaren Gewicht von $87,62\\text{u}$ enthält $1\\text{g}$ $^{90}_{38}Sr$\n",
    "\\begin{equation}\n",
    "    \\frac{1u}{1,661 \\cdot 10^{-24}g \\cdot 87,62u} \\approx 6,9 \\cdot 10^{21}\n",
    "\\end{equation}\n",
    "Kerne.\n",
    "Somit sind nach $A(t) = \\frac{ln(2)}{T_{1/2}} \\cdot N_0 \\cdot e^{-\\frac{ln(2)}{T_{1/2}}t}$ mit etwa $5,24 \\cdot 10^{12}$ Zerfällen pro Sekunde zu rechnen.\n",
    "\n",
    "$^{90}_{39}Y$ seinerseits zerfällt mit einer Halbwertszeit von $64.1\\text{h}$ unter $\\beta^-$-Emission relativ schnell weiter zu Zirconium-90 mit einer Zerfallsenergie von $2,28\\text{MeV}$  \n",
    "Die stöchiometrischen Faktoren ändern sich während der Zerfallsreihe nicht - wohl aber die Zerfallsenergie. Es ist also anzunehmen, dass während der Messung die durch den Zerfall des Spaltproduktes entstehende Strahlung in ihrer Energie dominieren wird. _Mit Blick auf die Zerfallsenergien der jeweiligen Strahler ist jedoch der maximale Messbereich des Kontaminationsmessgerätes zu beachten._  \n",
    "\n",
    "## Kobalt-60  \n",
    "$^{137}Cs$ Fotopeak bei $662 \\text{keV}$  \n",
    "$^{60}Co$ Fotopeak bei $1173$ und $1333 \\text{keV}$\n",
    "\n"
   ],
   "cell_type": "markdown",
   "metadata": {}
  },
  {
   "source": [
    "# Aktivität, Dosisleistung"
   ],
   "cell_type": "markdown",
   "metadata": {}
  },
  {
   "source": [
    "# Absorptionsgesetz (Gültigkeit für $\\alpha$, $\\beta$, $\\gamma$ -  Strahlung"
   ],
   "cell_type": "markdown",
   "metadata": {}
  },
  {
   "source": [
    "# Durchführung - Abstract  \n",
    "\n",
    "Messgerät **LB 123** zusammen mit den Messsonden **LB 1236** (beide bereits bekannt aus V7) und **LB 1238** werden zur Impulsratenmessung für $\\alpha$/$\\beta$ (Sonde **LB 1236**) und $\\gamma$ (Sonde **LB 1238**) eingesetzt. Die Sonden werden hier so angeordnet, dass für $\\alpha$,$\\beta$-Messung die Achse der Sonde **parallel** zur Achse der Probe liegt. Für $\\gamma$-Messung hingegen liegt die Achse der Sonde **senkrecht** zur Achse der Probe.  \n",
    "\n",
    "             Sonde                             Probe\n",
    "          ┌────────────────┐                ┌─────────────────┐     Achse\n",
    "          │                │                │                 │  ┌───────\n",
    "          │                │                │                 │  │\n",
    "      ─ ─ ┼ ─ ─ ─ ─ ─ ─ ─ ─┼ ─ ─ ─ ─ ─ ─ ─ ─┼ ─ ─ ─ ─ ─ ─ ─ ─ ┼ ─▼─ ─\n",
    "          │                │                │                 │\n",
    "          │                │                │                 │\n",
    "          └────────────────┤                ├─────────────────┘\n",
    "                           │    Distanz     │\n",
    "                           │◄──────────────►│\n",
    "                           │                │\n",
    "\n",
    "\n",
    ">**Während des gesamten Versuchs muss darauf geachtet werden, dass Sonde und Probe nicht in Berührung kommen!**\n",
    "\n",
    "Warum? Durch Kontakt kann es zu Kontamination der Sonde selbst kommen. In Folge werden sämtliche Messunge neben dem Nulleffekt von einem zusätzlichen, der Kontamination entstammenden, Grundrauschen überlagert.\n",
    "\n",
    "## Aufgabe 1\n",
    "\n"
   ],
   "cell_type": "markdown",
   "metadata": {}
  }
 ]
}