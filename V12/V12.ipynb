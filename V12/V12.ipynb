{
 "metadata": {
  "language_info": {
   "codemirror_mode": {
    "name": "ipython",
    "version": 3
   },
   "file_extension": ".py",
   "mimetype": "text/x-python",
   "name": "python",
   "nbconvert_exporter": "python",
   "pygments_lexer": "ipython3",
   "version": 3
  },
  "orig_nbformat": 2
 },
 "nbformat": 4,
 "nbformat_minor": 2,
 "cells": [
  {
   "source": [
    "# Gammaspektrometrie mit NaJ-Szintillationszähler (LB 2045);Identifikation von Nukliden  \n",
    "Links: http://www.physik-box.de/gamma1.html"
   ],
   "cell_type": "markdown",
   "metadata": {}
  },
  {
   "source": [
    "# NaJ(Tl)-Szintillationszähler  \n",
    "Ein Szintillationszähler ist ein Instrument zur Detektion und Quantisierung im Sinne der Energiebestimmung von $\\gamma$-Strahlung. Somit eignet er sich $\\gamma$-Spektren aufzunehmen.  \n",
    "![alt text](referenzen/szintillationszaehler.jpg \"Szintillationszähler\")  \n",
    "Quelle: Eichler, Kronfeldt, Sahm - \"Das neue physikalische Grundpraktikum\", 2016  \n",
    "\n",
    "Im Bild gezeigt der schematische Aufbau bestehend aus Szintillator, Photomultiplier (**S**ekundär**e**lektronen**v**ervielfacher) und (Signal)Verstärker. Der Szintillator selbst besteht häufig aus einem mit Thallium dotierten Natriumjodid-Einkristall. Im Szintillator wird die ionisierende Wechselwirkung der einfallenden Gammas ausgenutzt. Über den Fotoeffekt löst ein Gamma-Quant im NaJ-Kristall ein Elektron aus, welches entweder mit höherer Wahrscheinlichkeit im Kristall selbst unter Wärmeentwicklung wieder absorbiert wird oder mit weniger Wahrscheinlichkeit mit einer der Thallium-Fehlstellen unter Aussendung eines Photons höherer Wellenlänge wieder rekombiniert. Die Anzahl der erzeugten Sekundärphotonen ist proportional der Energie der primären Gammas.  \n",
    "\n",
    "Das Messsignal ist in der Regel eingebettet in einen kontinuierlichen Untergrund. Dieser entsteht durch Streifschüsse der $\\gamma$ und hierdurch entstehende Compton-Photonen geringerer Energie.\n",
    "\n",
    "Typische zeitliche Auflösung: $10^{-7} s$ bis $10^{-10} s$.  \n",
    "Energieauflösung für $^{137}\\text{Cs}$ Gammas liegt bei $\\approx 50 keV$"
   ],
   "cell_type": "markdown",
   "metadata": {}
  },
  {
   "source": [
    "# $\\gamma$-Strahlung, $\\gamma$-Spektrometrie  \n",
    "Als $\\gamma$-Strahlung wird elektromagnetische Strahlung bezeichnet, die ihren Ursprung im Atomkern hat. Natürlich vorkommende $\\gamma$-Strahlung trägt Energien zwischen $10^3$ und $10^6$ eV.  \n",
    "Schick ist, dass durch die diskrete Natur der Zustände der Nuklide bei Übergängen jeweils charakteristische Gammas ausgesandt werden. Zusamlmen bilden sie das sogenannte $\\gamma$-Linienspektrum welches wiederum zur identifikation einzelner Radionuklide genutzt werden kann. Beispielhaft wäre der Zerfall von $^{60}\\text{Co}$ zu $^{60}\\text{Ni}$.\n",
    "\\begin{equation}\n",
    "    ^{60}\\text{Co} \\longrightarrow ^{60}\\text{Ni}^{**} \\longrightarrow ^{60}\\text{Ni}^{*} + \\gamma_{1,17 MeV} \\longrightarrow ^{60}\\text{Ni} + \\gamma_{1,33 MeV}\n",
    "\\end{equation}"
   ],
   "cell_type": "markdown",
   "metadata": {}
  },
  {
   "source": [
    "# WW von $\\gamma$-Strahlung mit Materie, Absorption  \n",
    "![alt text](referenzen/gamma_in_materie.jpg \"Szintillationszähler\")  \n",
    "Quelle: Eichler, Kronfeldt, Sahm - \"Das neue physikalische Grundpraktikum\", 2016  \n",
    "\n",
    "Beim Durchgang von $\\gamma$-Quanten durch Materie gibt es im Wesentlichen drei Arten der Wechselwirkung die jeweils von der Energie der $\\gamma$-Quanten abhängige Häufungswahrscheinlichkeiten besitzen. Diese drei Wechselwirkungsarten sind die Compton-Streuung, Paarbildung und der im Szintillationszähler ausgenutze (innere) **Fotoeffekt**. Hieraus folgt, dass es für eine sinnvolle Messung nötig ist die Wahrscheinlichkeit für ein Foto-Event und damit den auf sein Konto gehenden Anteil des Schwächungskoeffizienten zu maximieren.  \n",
    "Im Bild zu sehen ist, dass für (reines?) $\\text{NaJ}$ als Szintillationsmaterial oberhalb einer Energie von $\\approx 1 MeV$ de facto keine fotoelektrische Wechselwirkung mehr stattfindet.  \n",
    "Paarbildung wird erst bei relativ hohen Energien $\\geq 10 MeV$ relevant, was bei den hier verwendeten $\\gamma$-Strahlern praktisch zu vernachlässigen ist.  \n",
    "\n",
    "Beim inneren Fotoeffekt werden $\\gamma$-Quanten Elektronen im Valenzband absorbiert. Wenn die durch das $\\gamma$-Quant eingebrachte Energie ausreicht um die Bandlücke zum Leitungsband zu überwinden, entsteht ein freies Elektron mit einer der eingebrachten Energie proportionalen kinetischen Energie. Auf dem Weg durch das Absorbermaterial hinterlässt es nun eine Spur ~der Verwüstung~ von Ionisationsprozessen entlang seiner Bahn.  \n",
    "Ultimativ entstehen so also Strompulse deren Höhe der ursächlichen $\\gamma$-Energie proportional eignen sich so zur Energie-/Nuklidbestimmung."
   ],
   "cell_type": "markdown",
   "metadata": {}
  },
  {
   "source": [
    "# Absorption in Materialien  \n",
    "Lambert'sche Schwächungsgesetz\n",
    "\\begin{gather}\n",
    "    P(d_{1/2}) = \\frac{1}{2}P_0 = P_0 \\cdot e^{-\\mu d} \\\\\n",
    "    \\Leftrightarrow \\\\\n",
    "    d = \\frac{ln(2)}{\\mu}\n",
    "\\end{gather}\n",
    "mit der Strahlungsleistung $P$, der Schichtdicke $d$ und dem Schwächungskoeffizienten $\\mu$. $\\mu$ hängt wiederum von der Quantenenergie ab. Obige Gleichung gilt also nur in annäherungsweise bei kleinen Änderungen der $\\gamma$-Energie."
   ],
   "cell_type": "markdown",
   "metadata": {}
  },
  {
   "source": [
    "# Radium 226, Folgeprodukte, Zerfallsreihe  \n",
    "\\begin{align}\n",
    "    ^{226}_{80}\\text{Ra} &\\longrightarrow ^{222}_{86}\\text{Rn} + \\alpha (+ \\gamma_{186 keV}) \\\\\n",
    "    ^{222}_{86}\\text{Rn} &\\longrightarrow ^{218}_{84}\\text{Po} + \\alpha \\\\\n",
    "    ^{218}_{84}\\text{Po} &\\longrightarrow ^{214}_{82}\\text{Pb} + \\alpha \\\\\n",
    "    ^{214}_{82}\\text{Pb} &\\longrightarrow ^{214}_{83}\\text{Bi} + \\beta^- (+\\gamma_{352, 295, 242, 53 keV} \\\\\n",
    "    ^{214}_{83}\\text{Bi} &\\longrightarrow ^{214}_{84}\\text{Po} + \\beta^- (+\\gamma_{609 keV} \\\\\n",
    "    ...\n",
    "\\end{align}"
   ],
   "cell_type": "markdown",
   "metadata": {}
  },
  {
   "source": [
    "# Am-241, Co-60, Cs-137, Zerfall, $\\gamma$-Quanten  \n",
    "$^{137}Cs$ Fotopeak bei $662 \\text{keV}$  \n",
    "$^{60}Co$ Fotopeak bei $1173$ und $1333 \\text{keV}$"
   ],
   "cell_type": "markdown",
   "metadata": {}
  },
  {
   "source": [
    "# Energiespektren"
   ],
   "cell_type": "markdown",
   "metadata": {}
  },
  {
   "source": [
    "# Durchführung - Abstract\n",
    "In diesem Versuch wird das Messgerät **LB 2045** eingesetzt. Zunächst soll mit Hilfe des Eichstrahlers Cs137 eine Kalibriermessung durchgeführt werden.  \n",
    "Anschließend sollen Energiespektren der Proben Am241, Cs137 und Co60 aufgenommen werden.\n",
    "\n",
    "             Sonde                             Probe\n",
    "          ┌────────────────┐                ┌─────────────────┐     Achse\n",
    "          │                │                │                 │  ┌───────\n",
    "          │                │                │                 │  │\n",
    "      ─ ─ ┼ ─ ─ ─ ─ ─ ─ ─ ─┼ ─ ─ ─ ─ ─ ─ ─ ─┼ ─ ─ ─ ─ ─ ─ ─ ─ ┼ ─▼─ ─\n",
    "          │                │                │                 │\n",
    "          │                │                │                 │\n",
    "          └────────────────┤                ├─────────────────┘\n",
    "                           │    Distanz     │\n",
    "                           │◄──────────────►│\n",
    "                           │                │\n",
    "\n",
    "Hierzu werden die Messsonde **NaJ-Sonde 80936** und Testpräparat auf einer optischen Bank so angeordnet, dass ihre Achsen kolinear angeordnet sind (siehe Skizze)."
   ],
   "cell_type": "markdown",
   "metadata": {}
  }
 ]
}