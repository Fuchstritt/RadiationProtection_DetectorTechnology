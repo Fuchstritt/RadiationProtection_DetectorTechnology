{
 "metadata": {
  "language_info": {
   "codemirror_mode": {
    "name": "ipython",
    "version": 3
   },
   "file_extension": ".py",
   "mimetype": "text/x-python",
   "name": "python",
   "nbconvert_exporter": "python",
   "pygments_lexer": "ipython3",
   "version": "3.9.4"
  },
  "orig_nbformat": 2,
  "kernelspec": {
   "name": "python394jvsc74a57bd04620bb12eb4ef46e1960a9f12585f37adcc952bfb7cabc2e556eb1c9c4f66078",
   "display_name": "Python 3.9.4 64-bit"
  }
 },
 "nbformat": 4,
 "nbformat_minor": 2,
 "cells": [
  {
   "source": [
    "# Vorbereitung\n",
    "## Gasionisationsdetektoren, Proportionalzähler\n",
    "Das Funktionsprinzip von Gasionisationsdetektoren ist die Ausnutzung der ionisierenden Wechselwirkung zwischen der eintretenden, radioaktiven Strahlung und den Teilchen - bzw. genauer den Elektronenschalen - des Füllgases. Befinden sich die Ionen des Füllgases und die freien Elektronen in einem ausreichend starken äußeren elektrischen Feld, lassen sie sich zur Anode bzw. Kathode hin \"sortieren\" bevor sie dazu in der Lage sind zu rekombinieren, damit Ladungsneutral und letztlich unempfindlich gegenüber dem äußeren E-Feld zu werden.  \n",
    "Ist das äußere E-Feld nun so stark um die Ladungen derart zu beschleunigen, dass sie ihrerseits durch Kollisionen Gasatomen ionisieren, wird der Gasionisationsdetektor als _Proportionalzähler_ betrieben. Die Bezeichnung rührt von dem Zusammenhang $E \\propto N$ wobei $E$ das angelegte Feld und $N$ die Zählrate ist.  "
   ],
   "cell_type": "markdown",
   "metadata": {}
  },
  {
   "source": [
    "## $\\alpha$, $\\beta$, $\\gamma$-Strahlung\n",
    "$\\alpha$-Strahlung bezeichnet ionisierende Strahlung, die meist ein Zerfallsprodukt instabiler Kerne ist und seinerseits ein $\\frac{4}{2}He$-Kern darstellt.  \n",
    "\n",
    "$\\beta$-Strahlung entsteht ähnlich der $\\alpha$-Strahlung bei Kernzerfällen. Hierbei wird jedoch ein Neutron in ein **Proton**, ein **Elektron** und ein **anti-Neutrino** umgewandelt. Auch möglich ist der Zerfall eines Protons unter Emission eines **Neutrons**, eines **Positrons** und eines **Neutrinos**. Es wird somit unterschieden in $\\beta^-$-Zerfälle\n",
    "\\begin{equation}\n",
    "    n \\longrightarrow p^+ + e^- + \\bar{\\nu}\n",
    "\\end{equation}\n",
    "und $\\beta^+$-Zerfälle\n",
    "\\begin{equation}\n",
    "    p^+ \\longrightarrow n + e^+ + \\nu\n",
    "\\end{equation}  \n",
    "\n",
    "$\\gamma$-Strahlung zuletzt meint vom Nukleus eines Atoms emmitierte elektromagnetische Strahlung."
   ],
   "cell_type": "markdown",
   "metadata": {}
  },
  {
   "source": [
    "## Oberflächenkontamination\n",
    "_\"Durch radioaktive Stoffe verursachte Verunreinigung auf der Oberfläche eines Materials.\"_ - Quelle: Bundesamt für Strahlenschutz.\n",
    "\n"
   ],
   "cell_type": "markdown",
   "metadata": {}
  },
  {
   "source": [
    "## Kontaminationsmonitor _Minicont H 1370 W_\n",
    "\n"
   ],
   "cell_type": "markdown",
   "metadata": {}
  },
  {
   "cell_type": "code",
   "execution_count": null,
   "metadata": {},
   "outputs": [],
   "source": [
    "from IPython import display\n",
    "import os.path\n",
    "\n",
    "print(\"Fläche: 160 cm²\")\n",
    "print(\"Messbereich: 0,1 bis 10 000 Imp/s\")\n",
    "print(\"Quelle: Bundesamt für Bevölkerungsschutz und Katastrophenhilfe\")\n",
    "display.Image(url= \"https://www.bbk.bund.de/SharedDocs/Bilder/BBK/DE/CBRN-Schutz/Minicont-1-Grundger%C3%A4t.jpg;jsessionid=678D984E7E2ED7F9C99CF690AACD37FA.2_cid330?__blob=normal&v=3\")"
   ]
  },
  {
   "source": [
    "## _Berthold LB123 UMo_ mit _LB 1236 Messsonde_\n",
    "\n",
    "Es konnten leider keine näheren Informationen zu exakt diesem Gerät gefunden werden. Mit der Unterstellung jedoch, dass es sich bei dem Gerät mit der Bezeichnung LB 134 Umo II um einen ähnlichen Typ handelt, haben wir es hier - in Kombination mit der Gamma-Sonde LB 1236-H10 - mit einem Dosisleistungsmonitor für Gamma- und Röntgenstrahlung mit _\"tragbarer Auswerteeinheit\"_ zu tun.  \n",
    "\n",
    "Messbereich: $50 \\frac{nSv}{h}$ bis $10 \\frac{mSv}{h}$  \n",
    "Energiebereich: $30 \\text{keV}$ bis $1,3 \\text{MeV}$\n",
    "\n",
    "Quelle: https://www.berthold.com"
   ],
   "cell_type": "markdown",
   "metadata": {}
  },
  {
   "cell_type": "code",
   "execution_count": null,
   "metadata": {},
   "outputs": [],
   "source": [
    "print(\"Quelle: https://www.berthold.com\")\n",
    "display.Image(\"./referenzen/LB134_und_LB1236-H10.jpg\")"
   ]
  },
  {
   "source": [
    "## Impulsraten, Nulleffekt (Nullrate)\n",
    "Auch bei Abwesenheit und nach gewissenhaftem Reinigen der Messapparatur wird es eine von null verschiedene Zählrate $N_0$ geben - sie wird _Nullrate_ genannt. \n",
    "\n"
   ],
   "cell_type": "markdown",
   "metadata": {}
  },
  {
   "source": [
    "## Ameritium-241, Zerfallsart, Strahlenart\n",
    "Das Isotop $^{241}_{95}Am$ ist ein $\\alpha$-Strahler nach\n",
    "\\begin{equation}\n",
    "    ^{241}_{95}Am \\longrightarrow ^{237}_{93}Np + \\alpha + \\gamma 59,54\\text{keV}\n",
    "\\end{equation}\n",
    "mit einer Halbwertszeit von $T_{1/2} = 432,2\\text{a}$ und einer Zerfallsenergie von $\\approx 5,486 \\text{MeV}$. Mit einem atomaren Gewicht von $241,06\\text{u}$ enthält $1\\text{g}$ $^{241}_{95}Am$ schätzungsweise\n",
    "\\begin{equation}\n",
    "    1\\text{u}^{-1} \\cdot {1,661 \\cdot 10^{-24}g \\cdot 241,06u} \\approx 2,5 \\cdot 10^{21}\n",
    "\\end{equation}\n",
    "Kerne.\n",
    "Somit ist nach $A(t) = \\frac{ln(2)}{T_{1/2}} \\cdot N_0 \\cdot e^{-\\frac{ln(2)}{T_{1/2}}t}$ mit etwa $1,27 \\cdot 10^{11}$ Zerfällen pro Sekunde zu rechnen.  \n",
    "\n",
    "Das Zerfallsprodukt $^{237}Np$ besitzt eine Halbwertszeit von $2,144 \\cdot 10^6\\text{a}$(!) und wird damit mit irrelevant für die Messung angenommen.\n",
    "\n"
   ],
   "cell_type": "markdown",
   "metadata": {}
  },
  {
   "cell_type": "code",
   "execution_count": 2,
   "metadata": {},
   "outputs": [
    {
     "output_type": "stream",
     "name": "stdout",
     "text": [
      "127010406753.11765 Zerfälle pro Sekunde\n"
     ]
    }
   ],
   "source": [
    "import numpy as np\n",
    "\n",
    "# Defined some helper functions. Might come in handy, might not.\n",
    "def GetPartsPerGram(u):\n",
    "    return 10**24 / (1.661 * u)\n",
    "\n",
    "def GetDecayPerSec(ht, Nzero, t):\n",
    "    ht = ht * 31536000 # years to seconds\n",
    "    return (np.log(2) / ht) * (Nzero / np.exp(np.log(2) * t / ht))\n",
    "\n",
    "ppg_Am = GetPartsPerGram(241.06)\n",
    "countsAm = GetDecayPerSec(432.2, ppg_Am, 1)\n",
    "\n",
    "print(countsAm, \"Zerfälle pro Sekunde\")"
   ]
  },
  {
   "source": [
    "## Strontium 90, Zerfallsart, Strahlenart\n",
    "\n",
    "Das Isotop $^{90}_{38}Sr$ zerfällt durch $\\beta^{-}$-Zerfall mit einer Halbwertszeit von $T_{1/2} = 28,8\\text{a}$ und einer Zerfallsenergie von $\\approx 0,546 \\text{MeV}$. Das Zerfallsprodukt ist Ytterium-90.\n",
    "\\begin{equation}\n",
    "    ^{90}_{38}St \\longrightarrow ^{90}_{39}Y + p^+ + e^- + \\bar{\\nu}\n",
    "\\end{equation}\n",
    "Mit einem atomaren Gewicht von $87,62\\text{u}$ enthält $1\\text{g}$ $^{90}_{38}Sr$\n",
    "\\begin{equation}\n",
    "    \\frac{1u}{1,661 \\cdot 10^{-24}g \\cdot 87,62u} \\approx 6,9 \\cdot 10^{21}\n",
    "\\end{equation}\n",
    "Kerne.\n",
    "Somit sind nach $A(t) = \\frac{ln(2)}{T_{1/2}} \\cdot N_0 \\cdot e^{-\\frac{ln(2)}{T_{1/2}}t}$ mit etwa $5,24 \\cdot 10^{12}$ Zerfällen pro Sekunde zu rechnen.\n",
    "\n",
    "$^{90}_{39}Y$ seinerseits zerfällt mit einer Halbwertszeit von $64.1\\text{h}$ unter $\\beta^-$-Emission relativ schnell weiter zu Zirconium-90 mit einer Zerfallsenergie von $2,28\\text{MeV}$  \n",
    "Die stöchiometrischen Faktoren ändern sich während der Zerfallsreihe nicht - wohl aber die Zerfallsenergie. Es ist also anzunehmen, dass während der Messung die durch den Zerfall des Spaltproduktes entstehende Strahlung in ihrer Energie dominieren wird. _Mit Blick auf die Zerfallsenergien der jeweiligen Strahler ist jedoch der maximale Messbereich des Kontaminationsmessgerätes zu beachten._"
   ],
   "cell_type": "markdown",
   "metadata": {}
  },
  {
   "cell_type": "code",
   "execution_count": null,
   "metadata": {},
   "outputs": [],
   "source": [
    "ppg_St = GetPartsPerGram(87.62)\n",
    "countsSt = GetDecayPerSec(28.8, ppg_St, 1)\n",
    "\n",
    "print(countsSt, \"Zerfälle pro Sekunde\")"
   ]
  },
  {
   "source": [
    "## Abstandsgesetz, Geometriefaktor\n",
    "Das Abstandsgesetz besagt, dass die Intensität $I$ mit dem Quadrat zur Entfernung der Quelle abnimmt. Oder in anderen Worten: $I = \\frac{const.}{R^2}$  \n",
    "\n",
    "Der Geometriefaktor hängt damit eng zusammen: er ist eine Einheitenlose Zahl und gibt das Verhältnis des vom Detektor eingeschlossenen Raumwinkels um die Probe zum Gesamtraumwinkel an. Bei einem Geometriefaktor von 1 umschließt das Zählvolumen des Messgerätes den gesamten Raumwinkel um die Probe - sämtliche emittierte Strahlung muss das Zählvolumen passieren. Im Falle der Messung von Oberflächenkontamination ist demnach der Geometriefaktor mit $0,5$ (theoretisch) maximiert bei Aufliegen des Messgerätes auf der zu messenden Oberfläche."
   ],
   "cell_type": "markdown",
   "metadata": {}
  },
  {
   "source": [
    "## Auswertung\n",
    "--> Read The Docs <--  \n",
    "https://www.scipy.org/"
   ],
   "cell_type": "markdown",
   "metadata": {}
  },
  {
   "cell_type": "code",
   "execution_count": 35,
   "metadata": {},
   "outputs": [],
   "source": [
    "import matplotlib.pyplot as plt\n",
    "from pandas import read_csv\n",
    "from scipy.optimize import curve_fit"
   ]
  },
  {
   "cell_type": "code",
   "execution_count": 38,
   "metadata": {},
   "outputs": [
    {
     "output_type": "stream",
     "name": "stdout",
     "text": [
      "   Abstand / cm  P1a  P1a+b  P2a  P2a+b  P3a  P3a+b\n0            50  0.0      5  0.1      6  0.1      5\n1            40  0.0      5  0.1      8  0.1      5\n2            30  0.0      5  0.1     10  0.1      5\n3            20  0.0      5  0.0     20  0.0      6\n4            10  0.1      5  0.0     40  0.0      6\n"
     ]
    }
   ],
   "source": [
    "with open(\"./messdaten/proben.csv\", newline='', encoding='utf-8') as proben:\n",
    "    data = read_csv('./messdaten/proben.csv', delimiter=';')\n",
    "    distances = data.iloc[:,0]\n",
    "    print(data.head())"
   ]
  },
  {
   "cell_type": "code",
   "execution_count": 46,
   "metadata": {},
   "outputs": [
    {
     "output_type": "execute_result",
     "data": {
      "text/plain": [
       "<matplotlib.collections.PathCollection at 0x1ff7078efd0>"
      ]
     },
     "metadata": {},
     "execution_count": 46
    },
    {
     "output_type": "display_data",
     "data": {
      "text/plain": "<Figure size 992.126x558.142 with 1 Axes>",
      "image/svg+xml": "<?xml version=\"1.0\" encoding=\"utf-8\" standalone=\"no\"?>\r\n<!DOCTYPE svg PUBLIC \"-//W3C//DTD SVG 1.1//EN\"\r\n  \"http://www.w3.org/Graphics/SVG/1.1/DTD/svg11.dtd\">\r\n<svg height=\"452.475133pt\" version=\"1.1\" viewBox=\"0 0 809.385138 452.475133\" width=\"809.385138pt\" xmlns=\"http://www.w3.org/2000/svg\" xmlns:xlink=\"http://www.w3.org/1999/xlink\">\r\n <metadata>\r\n  <rdf:RDF xmlns:cc=\"http://creativecommons.org/ns#\" xmlns:dc=\"http://purl.org/dc/elements/1.1/\" xmlns:rdf=\"http://www.w3.org/1999/02/22-rdf-syntax-ns#\">\r\n   <cc:Work>\r\n    <dc:type rdf:resource=\"http://purl.org/dc/dcmitype/StillImage\"/>\r\n    <dc:date>2021-05-17T18:08:12.376270</dc:date>\r\n    <dc:format>image/svg+xml</dc:format>\r\n    <dc:creator>\r\n     <cc:Agent>\r\n      <dc:title>Matplotlib v3.4.1, https://matplotlib.org/</dc:title>\r\n     </cc:Agent>\r\n    </dc:creator>\r\n   </cc:Work>\r\n  </rdf:RDF>\r\n </metadata>\r\n <defs>\r\n  <style type=\"text/css\">*{stroke-linecap:butt;stroke-linejoin:round;}</style>\r\n </defs>\r\n <g id=\"figure_1\">\r\n  <g id=\"patch_1\">\r\n   <path d=\"M 0 452.475133 \r\nL 809.385138 452.475133 \r\nL 809.385138 0 \r\nL 0 0 \r\nz\r\n\" style=\"fill:none;\"/>\r\n  </g>\r\n  <g id=\"axes_1\">\r\n   <g id=\"patch_2\">\r\n    <path d=\"M 33.2875 428.597008 \r\nL 802.185138 428.597008 \r\nL 802.185138 7.2 \r\nL 33.2875 7.2 \r\nz\r\n\" style=\"fill:#ffffff;\"/>\r\n   </g>\r\n   <g id=\"PathCollection_1\">\r\n    <defs>\r\n     <path d=\"M 0 3 \r\nC 0.795609 3 1.55874 2.683901 2.12132 2.12132 \r\nC 2.683901 1.55874 3 0.795609 3 0 \r\nC 3 -0.795609 2.683901 -1.55874 2.12132 -2.12132 \r\nC 1.55874 -2.683901 0.795609 -3 0 -3 \r\nC -0.795609 -3 -1.55874 -2.683901 -2.12132 -2.12132 \r\nC -2.683901 -1.55874 -3 -0.795609 -3 0 \r\nC -3 0.795609 -2.683901 1.55874 -2.12132 2.12132 \r\nC -1.55874 2.683901 -0.795609 3 0 3 \r\nz\r\n\" id=\"mbd8a602718\" style=\"stroke:#1f77b4;\"/>\r\n    </defs>\r\n    <g clip-path=\"url(#pe3db0fffd4)\">\r\n     <use style=\"fill:#1f77b4;stroke:#1f77b4;\" x=\"767.235245\" xlink:href=\"#mbd8a602718\" y=\"409.442598\"/>\r\n     <use style=\"fill:#1f77b4;stroke:#1f77b4;\" x=\"627.435675\" xlink:href=\"#mbd8a602718\" y=\"405.493236\"/>\r\n     <use style=\"fill:#1f77b4;stroke:#1f77b4;\" x=\"487.636104\" xlink:href=\"#mbd8a602718\" y=\"401.543873\"/>\r\n     <use style=\"fill:#1f77b4;stroke:#1f77b4;\" x=\"347.836534\" xlink:href=\"#mbd8a602718\" y=\"381.797059\"/>\r\n     <use style=\"fill:#1f77b4;stroke:#1f77b4;\" x=\"208.036963\" xlink:href=\"#mbd8a602718\" y=\"342.303431\"/>\r\n     <use style=\"fill:#1f77b4;stroke:#1f77b4;\" x=\"68.237393\" xlink:href=\"#mbd8a602718\" y=\"26.354409\"/>\r\n    </g>\r\n   </g>\r\n   <g id=\"matplotlib.axis_1\">\r\n    <g id=\"xtick_1\">\r\n     <g id=\"line2d_1\">\r\n      <defs>\r\n       <path d=\"M 0 0 \r\nL 0 3.5 \r\n\" id=\"m8f70e97846\" style=\"stroke:#000000;stroke-width:0.8;\"/>\r\n      </defs>\r\n      <g>\r\n       <use style=\"stroke:#000000;stroke-width:0.8;\" x=\"68.237393\" xlink:href=\"#m8f70e97846\" y=\"428.597008\"/>\r\n      </g>\r\n     </g>\r\n     <g id=\"text_1\">\r\n      <!-- 0 -->\r\n      <g transform=\"translate(65.056143 443.195445)scale(0.1 -0.1)\">\r\n       <defs>\r\n        <path d=\"M 2034 4250 \r\nQ 1547 4250 1301 3770 \r\nQ 1056 3291 1056 2328 \r\nQ 1056 1369 1301 889 \r\nQ 1547 409 2034 409 \r\nQ 2525 409 2770 889 \r\nQ 3016 1369 3016 2328 \r\nQ 3016 3291 2770 3770 \r\nQ 2525 4250 2034 4250 \r\nz\r\nM 2034 4750 \r\nQ 2819 4750 3233 4129 \r\nQ 3647 3509 3647 2328 \r\nQ 3647 1150 3233 529 \r\nQ 2819 -91 2034 -91 \r\nQ 1250 -91 836 529 \r\nQ 422 1150 422 2328 \r\nQ 422 3509 836 4129 \r\nQ 1250 4750 2034 4750 \r\nz\r\n\" id=\"DejaVuSans-30\" transform=\"scale(0.015625)\"/>\r\n       </defs>\r\n       <use xlink:href=\"#DejaVuSans-30\"/>\r\n      </g>\r\n     </g>\r\n    </g>\r\n    <g id=\"xtick_2\">\r\n     <g id=\"line2d_2\">\r\n      <g>\r\n       <use style=\"stroke:#000000;stroke-width:0.8;\" x=\"208.036963\" xlink:href=\"#m8f70e97846\" y=\"428.597008\"/>\r\n      </g>\r\n     </g>\r\n     <g id=\"text_2\">\r\n      <!-- 10 -->\r\n      <g transform=\"translate(201.674463 443.195445)scale(0.1 -0.1)\">\r\n       <defs>\r\n        <path d=\"M 794 531 \r\nL 1825 531 \r\nL 1825 4091 \r\nL 703 3866 \r\nL 703 4441 \r\nL 1819 4666 \r\nL 2450 4666 \r\nL 2450 531 \r\nL 3481 531 \r\nL 3481 0 \r\nL 794 0 \r\nL 794 531 \r\nz\r\n\" id=\"DejaVuSans-31\" transform=\"scale(0.015625)\"/>\r\n       </defs>\r\n       <use xlink:href=\"#DejaVuSans-31\"/>\r\n       <use x=\"63.623047\" xlink:href=\"#DejaVuSans-30\"/>\r\n      </g>\r\n     </g>\r\n    </g>\r\n    <g id=\"xtick_3\">\r\n     <g id=\"line2d_3\">\r\n      <g>\r\n       <use style=\"stroke:#000000;stroke-width:0.8;\" x=\"347.836534\" xlink:href=\"#m8f70e97846\" y=\"428.597008\"/>\r\n      </g>\r\n     </g>\r\n     <g id=\"text_3\">\r\n      <!-- 20 -->\r\n      <g transform=\"translate(341.474034 443.195445)scale(0.1 -0.1)\">\r\n       <defs>\r\n        <path d=\"M 1228 531 \r\nL 3431 531 \r\nL 3431 0 \r\nL 469 0 \r\nL 469 531 \r\nQ 828 903 1448 1529 \r\nQ 2069 2156 2228 2338 \r\nQ 2531 2678 2651 2914 \r\nQ 2772 3150 2772 3378 \r\nQ 2772 3750 2511 3984 \r\nQ 2250 4219 1831 4219 \r\nQ 1534 4219 1204 4116 \r\nQ 875 4013 500 3803 \r\nL 500 4441 \r\nQ 881 4594 1212 4672 \r\nQ 1544 4750 1819 4750 \r\nQ 2544 4750 2975 4387 \r\nQ 3406 4025 3406 3419 \r\nQ 3406 3131 3298 2873 \r\nQ 3191 2616 2906 2266 \r\nQ 2828 2175 2409 1742 \r\nQ 1991 1309 1228 531 \r\nz\r\n\" id=\"DejaVuSans-32\" transform=\"scale(0.015625)\"/>\r\n       </defs>\r\n       <use xlink:href=\"#DejaVuSans-32\"/>\r\n       <use x=\"63.623047\" xlink:href=\"#DejaVuSans-30\"/>\r\n      </g>\r\n     </g>\r\n    </g>\r\n    <g id=\"xtick_4\">\r\n     <g id=\"line2d_4\">\r\n      <g>\r\n       <use style=\"stroke:#000000;stroke-width:0.8;\" x=\"487.636104\" xlink:href=\"#m8f70e97846\" y=\"428.597008\"/>\r\n      </g>\r\n     </g>\r\n     <g id=\"text_4\">\r\n      <!-- 30 -->\r\n      <g transform=\"translate(481.273604 443.195445)scale(0.1 -0.1)\">\r\n       <defs>\r\n        <path d=\"M 2597 2516 \r\nQ 3050 2419 3304 2112 \r\nQ 3559 1806 3559 1356 \r\nQ 3559 666 3084 287 \r\nQ 2609 -91 1734 -91 \r\nQ 1441 -91 1130 -33 \r\nQ 819 25 488 141 \r\nL 488 750 \r\nQ 750 597 1062 519 \r\nQ 1375 441 1716 441 \r\nQ 2309 441 2620 675 \r\nQ 2931 909 2931 1356 \r\nQ 2931 1769 2642 2001 \r\nQ 2353 2234 1838 2234 \r\nL 1294 2234 \r\nL 1294 2753 \r\nL 1863 2753 \r\nQ 2328 2753 2575 2939 \r\nQ 2822 3125 2822 3475 \r\nQ 2822 3834 2567 4026 \r\nQ 2313 4219 1838 4219 \r\nQ 1578 4219 1281 4162 \r\nQ 984 4106 628 3988 \r\nL 628 4550 \r\nQ 988 4650 1302 4700 \r\nQ 1616 4750 1894 4750 \r\nQ 2613 4750 3031 4423 \r\nQ 3450 4097 3450 3541 \r\nQ 3450 3153 3228 2886 \r\nQ 3006 2619 2597 2516 \r\nz\r\n\" id=\"DejaVuSans-33\" transform=\"scale(0.015625)\"/>\r\n       </defs>\r\n       <use xlink:href=\"#DejaVuSans-33\"/>\r\n       <use x=\"63.623047\" xlink:href=\"#DejaVuSans-30\"/>\r\n      </g>\r\n     </g>\r\n    </g>\r\n    <g id=\"xtick_5\">\r\n     <g id=\"line2d_5\">\r\n      <g>\r\n       <use style=\"stroke:#000000;stroke-width:0.8;\" x=\"627.435675\" xlink:href=\"#m8f70e97846\" y=\"428.597008\"/>\r\n      </g>\r\n     </g>\r\n     <g id=\"text_5\">\r\n      <!-- 40 -->\r\n      <g transform=\"translate(621.073175 443.195445)scale(0.1 -0.1)\">\r\n       <defs>\r\n        <path d=\"M 2419 4116 \r\nL 825 1625 \r\nL 2419 1625 \r\nL 2419 4116 \r\nz\r\nM 2253 4666 \r\nL 3047 4666 \r\nL 3047 1625 \r\nL 3713 1625 \r\nL 3713 1100 \r\nL 3047 1100 \r\nL 3047 0 \r\nL 2419 0 \r\nL 2419 1100 \r\nL 313 1100 \r\nL 313 1709 \r\nL 2253 4666 \r\nz\r\n\" id=\"DejaVuSans-34\" transform=\"scale(0.015625)\"/>\r\n       </defs>\r\n       <use xlink:href=\"#DejaVuSans-34\"/>\r\n       <use x=\"63.623047\" xlink:href=\"#DejaVuSans-30\"/>\r\n      </g>\r\n     </g>\r\n    </g>\r\n    <g id=\"xtick_6\">\r\n     <g id=\"line2d_6\">\r\n      <g>\r\n       <use style=\"stroke:#000000;stroke-width:0.8;\" x=\"767.235245\" xlink:href=\"#m8f70e97846\" y=\"428.597008\"/>\r\n      </g>\r\n     </g>\r\n     <g id=\"text_6\">\r\n      <!-- 50 -->\r\n      <g transform=\"translate(760.872745 443.195445)scale(0.1 -0.1)\">\r\n       <defs>\r\n        <path d=\"M 691 4666 \r\nL 3169 4666 \r\nL 3169 4134 \r\nL 1269 4134 \r\nL 1269 2991 \r\nQ 1406 3038 1543 3061 \r\nQ 1681 3084 1819 3084 \r\nQ 2600 3084 3056 2656 \r\nQ 3513 2228 3513 1497 \r\nQ 3513 744 3044 326 \r\nQ 2575 -91 1722 -91 \r\nQ 1428 -91 1123 -41 \r\nQ 819 9 494 109 \r\nL 494 744 \r\nQ 775 591 1075 516 \r\nQ 1375 441 1709 441 \r\nQ 2250 441 2565 725 \r\nQ 2881 1009 2881 1497 \r\nQ 2881 1984 2565 2268 \r\nQ 2250 2553 1709 2553 \r\nQ 1456 2553 1204 2497 \r\nQ 953 2441 691 2322 \r\nL 691 4666 \r\nz\r\n\" id=\"DejaVuSans-35\" transform=\"scale(0.015625)\"/>\r\n       </defs>\r\n       <use xlink:href=\"#DejaVuSans-35\"/>\r\n       <use x=\"63.623047\" xlink:href=\"#DejaVuSans-30\"/>\r\n      </g>\r\n     </g>\r\n    </g>\r\n   </g>\r\n   <g id=\"matplotlib.axis_2\">\r\n    <g id=\"ytick_1\">\r\n     <g id=\"line2d_7\">\r\n      <defs>\r\n       <path d=\"M 0 0 \r\nL -3.5 0 \r\n\" id=\"m65ce1ffd54\" style=\"stroke:#000000;stroke-width:0.8;\"/>\r\n      </defs>\r\n      <g>\r\n       <use style=\"stroke:#000000;stroke-width:0.8;\" x=\"33.2875\" xlink:href=\"#m65ce1ffd54\" y=\"421.290687\"/>\r\n      </g>\r\n     </g>\r\n     <g id=\"text_7\">\r\n      <!-- 0 -->\r\n      <g transform=\"translate(19.925 425.089905)scale(0.1 -0.1)\">\r\n       <use xlink:href=\"#DejaVuSans-30\"/>\r\n      </g>\r\n     </g>\r\n    </g>\r\n    <g id=\"ytick_2\">\r\n     <g id=\"line2d_8\">\r\n      <g>\r\n       <use style=\"stroke:#000000;stroke-width:0.8;\" x=\"33.2875\" xlink:href=\"#m65ce1ffd54\" y=\"371.923652\"/>\r\n      </g>\r\n     </g>\r\n     <g id=\"text_8\">\r\n      <!-- 25 -->\r\n      <g transform=\"translate(13.5625 375.722871)scale(0.1 -0.1)\">\r\n       <use xlink:href=\"#DejaVuSans-32\"/>\r\n       <use x=\"63.623047\" xlink:href=\"#DejaVuSans-35\"/>\r\n      </g>\r\n     </g>\r\n    </g>\r\n    <g id=\"ytick_3\">\r\n     <g id=\"line2d_9\">\r\n      <g>\r\n       <use style=\"stroke:#000000;stroke-width:0.8;\" x=\"33.2875\" xlink:href=\"#m65ce1ffd54\" y=\"322.556617\"/>\r\n      </g>\r\n     </g>\r\n     <g id=\"text_9\">\r\n      <!-- 50 -->\r\n      <g transform=\"translate(13.5625 326.355836)scale(0.1 -0.1)\">\r\n       <use xlink:href=\"#DejaVuSans-35\"/>\r\n       <use x=\"63.623047\" xlink:href=\"#DejaVuSans-30\"/>\r\n      </g>\r\n     </g>\r\n    </g>\r\n    <g id=\"ytick_4\">\r\n     <g id=\"line2d_10\">\r\n      <g>\r\n       <use style=\"stroke:#000000;stroke-width:0.8;\" x=\"33.2875\" xlink:href=\"#m65ce1ffd54\" y=\"273.189583\"/>\r\n      </g>\r\n     </g>\r\n     <g id=\"text_10\">\r\n      <!-- 75 -->\r\n      <g transform=\"translate(13.5625 276.988802)scale(0.1 -0.1)\">\r\n       <defs>\r\n        <path d=\"M 525 4666 \r\nL 3525 4666 \r\nL 3525 4397 \r\nL 1831 0 \r\nL 1172 0 \r\nL 2766 4134 \r\nL 525 4134 \r\nL 525 4666 \r\nz\r\n\" id=\"DejaVuSans-37\" transform=\"scale(0.015625)\"/>\r\n       </defs>\r\n       <use xlink:href=\"#DejaVuSans-37\"/>\r\n       <use x=\"63.623047\" xlink:href=\"#DejaVuSans-35\"/>\r\n      </g>\r\n     </g>\r\n    </g>\r\n    <g id=\"ytick_5\">\r\n     <g id=\"line2d_11\">\r\n      <g>\r\n       <use style=\"stroke:#000000;stroke-width:0.8;\" x=\"33.2875\" xlink:href=\"#m65ce1ffd54\" y=\"223.822548\"/>\r\n      </g>\r\n     </g>\r\n     <g id=\"text_11\">\r\n      <!-- 100 -->\r\n      <g transform=\"translate(7.2 227.621767)scale(0.1 -0.1)\">\r\n       <use xlink:href=\"#DejaVuSans-31\"/>\r\n       <use x=\"63.623047\" xlink:href=\"#DejaVuSans-30\"/>\r\n       <use x=\"127.246094\" xlink:href=\"#DejaVuSans-30\"/>\r\n      </g>\r\n     </g>\r\n    </g>\r\n    <g id=\"ytick_6\">\r\n     <g id=\"line2d_12\">\r\n      <g>\r\n       <use style=\"stroke:#000000;stroke-width:0.8;\" x=\"33.2875\" xlink:href=\"#m65ce1ffd54\" y=\"174.455513\"/>\r\n      </g>\r\n     </g>\r\n     <g id=\"text_12\">\r\n      <!-- 125 -->\r\n      <g transform=\"translate(7.2 178.254732)scale(0.1 -0.1)\">\r\n       <use xlink:href=\"#DejaVuSans-31\"/>\r\n       <use x=\"63.623047\" xlink:href=\"#DejaVuSans-32\"/>\r\n       <use x=\"127.246094\" xlink:href=\"#DejaVuSans-35\"/>\r\n      </g>\r\n     </g>\r\n    </g>\r\n    <g id=\"ytick_7\">\r\n     <g id=\"line2d_13\">\r\n      <g>\r\n       <use style=\"stroke:#000000;stroke-width:0.8;\" x=\"33.2875\" xlink:href=\"#m65ce1ffd54\" y=\"125.088479\"/>\r\n      </g>\r\n     </g>\r\n     <g id=\"text_13\">\r\n      <!-- 150 -->\r\n      <g transform=\"translate(7.2 128.887698)scale(0.1 -0.1)\">\r\n       <use xlink:href=\"#DejaVuSans-31\"/>\r\n       <use x=\"63.623047\" xlink:href=\"#DejaVuSans-35\"/>\r\n       <use x=\"127.246094\" xlink:href=\"#DejaVuSans-30\"/>\r\n      </g>\r\n     </g>\r\n    </g>\r\n    <g id=\"ytick_8\">\r\n     <g id=\"line2d_14\">\r\n      <g>\r\n       <use style=\"stroke:#000000;stroke-width:0.8;\" x=\"33.2875\" xlink:href=\"#m65ce1ffd54\" y=\"75.721444\"/>\r\n      </g>\r\n     </g>\r\n     <g id=\"text_14\">\r\n      <!-- 175 -->\r\n      <g transform=\"translate(7.2 79.520663)scale(0.1 -0.1)\">\r\n       <use xlink:href=\"#DejaVuSans-31\"/>\r\n       <use x=\"63.623047\" xlink:href=\"#DejaVuSans-37\"/>\r\n       <use x=\"127.246094\" xlink:href=\"#DejaVuSans-35\"/>\r\n      </g>\r\n     </g>\r\n    </g>\r\n    <g id=\"ytick_9\">\r\n     <g id=\"line2d_15\">\r\n      <g>\r\n       <use style=\"stroke:#000000;stroke-width:0.8;\" x=\"33.2875\" xlink:href=\"#m65ce1ffd54\" y=\"26.354409\"/>\r\n      </g>\r\n     </g>\r\n     <g id=\"text_15\">\r\n      <!-- 200 -->\r\n      <g transform=\"translate(7.2 30.153628)scale(0.1 -0.1)\">\r\n       <use xlink:href=\"#DejaVuSans-32\"/>\r\n       <use x=\"63.623047\" xlink:href=\"#DejaVuSans-30\"/>\r\n       <use x=\"127.246094\" xlink:href=\"#DejaVuSans-30\"/>\r\n      </g>\r\n     </g>\r\n    </g>\r\n   </g>\r\n   <g id=\"patch_3\">\r\n    <path d=\"M 33.2875 428.597008 \r\nL 33.2875 7.2 \r\n\" style=\"fill:none;stroke:#000000;stroke-linecap:square;stroke-linejoin:miter;stroke-width:0.8;\"/>\r\n   </g>\r\n   <g id=\"patch_4\">\r\n    <path d=\"M 802.185138 428.597008 \r\nL 802.185138 7.2 \r\n\" style=\"fill:none;stroke:#000000;stroke-linecap:square;stroke-linejoin:miter;stroke-width:0.8;\"/>\r\n   </g>\r\n   <g id=\"patch_5\">\r\n    <path d=\"M 33.2875 428.597008 \r\nL 802.185138 428.597008 \r\n\" style=\"fill:none;stroke:#000000;stroke-linecap:square;stroke-linejoin:miter;stroke-width:0.8;\"/>\r\n   </g>\r\n   <g id=\"patch_6\">\r\n    <path d=\"M 33.2875 7.2 \r\nL 802.185138 7.2 \r\n\" style=\"fill:none;stroke:#000000;stroke-linecap:square;stroke-linejoin:miter;stroke-width:0.8;\"/>\r\n   </g>\r\n  </g>\r\n </g>\r\n <defs>\r\n  <clipPath id=\"pe3db0fffd4\">\r\n   <rect height=\"421.397008\" width=\"768.897638\" x=\"33.2875\" y=\"7.2\"/>\r\n  </clipPath>\r\n </defs>\r\n</svg>\r\n",
      "image/png": "[encoded data removed]"
     },
     "metadata": {
      "needs_background": "light"
     }
    }
   ],
   "source": [
    "cm = 1/2.54 # inch zu cm\n",
    "\n",
    "fig, ax = plt.subplots(figsize=(35*cm, 19.69*cm))\n",
    "\n",
    "ax.scatter(distances, data[\"P2a+b\"])"
   ]
  },
  {
   "cell_type": "code",
   "execution_count": null,
   "metadata": {},
   "outputs": [],
   "source": []
  }
 ]
}