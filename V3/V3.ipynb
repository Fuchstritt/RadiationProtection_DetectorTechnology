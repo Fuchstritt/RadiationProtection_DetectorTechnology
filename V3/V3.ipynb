{
 "metadata": {
  "language_info": {
   "codemirror_mode": {
    "name": "ipython",
    "version": 3
   },
   "file_extension": ".py",
   "mimetype": "text/x-python",
   "name": "python",
   "nbconvert_exporter": "python",
   "pygments_lexer": "ipython3",
   "version": 3
  },
  "orig_nbformat": 4
 },
 "nbformat": 4,
 "nbformat_minor": 2,
 "cells": [
  {
   "source": [
    "# Bestimmung eines β, γ- Strahlenfeldes (Co-60) mit verschiedenen Dosisleistungsmonitoren; Graetz XE 50S, Berthold FH 40, TOLF, Berthold LB123+LB  1236, Gamma-Scout"
   ],
   "cell_type": "markdown",
   "metadata": {}
  },
  {
   "source": [
    "## Gasionisationsdetektoren"
   ],
   "cell_type": "markdown",
   "metadata": {}
  },
  {
   "source": [
    "## β, γ - Strahlung  \n",
    "Bei großem Neutronenüberschuss gegenüber der Kernladungszahl kommen gehäuft Neutronenzerfälle unter Bildung/Aussendung von (positiv geladenen) Protonen, (negativ geladenen) Elektronen und einem nur vermittels schwacher Wechselwirkung wechselwirkenden Elektron-Antineutrino vor.\n",
    "$\\beta^-$-Zerfall:\n",
    "\\begin{equation}\n",
    "n \\longrightarrow p^+ + e^- + \\bar{\\nu_e}\n",
    "\\end{equation}\n",
    "$\\beta^+$-Zerfall:\n",
    "Analog hierzu kann es bei Unterschuss von Neutronen im Kern zu spontanen Zerfällen der Protonen kommen. Dies geschieht unter Bildung/Aussendung jjeweils eines Neutrons, eines (positiv geladenen) Positrons und eines Elektron-Neutrino.\n",
    "\\begin{equation}\n",
    "p^+ \\longrightarrow n + e^+ + \\nu_e\n",
    "\\end{equation}\n",
    "  \n",
    "Als $\\gamma$-Strahlung wird elektromagnetische Strahlung bezeichnet, die ihren Ursprung im Atomkern hat. Natürlich vorkommende $\\gamma$-Strahlung transportiert Energien zwischen $10^3$ und $10^6$ eV.  "
   ],
   "cell_type": "markdown",
   "metadata": {}
  },
  {
   "source": [
    "## Dosimetrie, Dosisbestimmung, Dosisleistung  \n",
    "\n",
    "Energiedosis: Einheit _Gray_ $1 Gy = 1Jkg$  \n",
    "  \n",
    "Äquivalentdosis: Einheit _Sievert_ $1 Sv = 1 Jkg$ \n",
    "\n",
    "Gleiche Einheiten - was ist da denn los?  \n",
    "Strahlung gleicher Energiedosis kann in z.b. menschlichem Gewebe ganz unterschiedliche Effekte verursachen, je nach Strahlungsart. So ist dich ionisierende Strahlung wie $\\alpha$-Strahlung deutlich gefährlicher einzustufen, als etwa $\\gamma$-Strahlung. Das Sievert als Äquivalentdosis will dem rechnung tragen, indem zur Energiedosis ein Wichtungsfaktor aufmultipliziert wird. Dieser setzt sich zusammen aus Strahlenart und Art des Gewebes, das der Strahlung ausgesetzt ist/wird.  \n",
    "Hierüber hinaus gibt es allerdings noch einige weitere Wichtungsfaktoren je nach Gegenstand der Strahlenschutzüberwachung."
   ],
   "cell_type": "markdown",
   "metadata": {}
  },
  {
   "source": [
    "## Tragbare Dosimeter  \n",
    "**Füllhalterdosimeter**: Quasi ein geladener Kondensator, der durch ionisationsevents seine Ladung verliert. Der damit einhergehende Spannungsverlust lässt sich anzeigen und daraus eine Aussage über die akumulierte Strahlung treffen. Diese sind zumeist für $\\gamma$- und Röntgenstrahlung ausgelegt.  \n",
    "  \n",
    "**Filmdosimeter**: Für verschiedene Strahlungsarten ausgelegte dünne Filme schwärzen sich durch einfall ionisierender Strahlung. Vergleich mit Referenzfärbungen lassen Rückschlüsse auf die über den Nutzungszeitraum gesammelte Strahlungsbelastung zu.  \n",
    "  \n",
    "**Thermolumineszensdosimeter**: Ausgenutzt werden Änderungen der kristallinen Struktur von Thermolumineszenzfähigem Material unter Einwirkung von ionisierender Strahlung. Änderungen in der Kristallstruktur gehen mit speicherung von Energie einher, die unter Zufuhr von thermischer Energie (erwärmen) unter Aussenden von sichtbarem Licht frei gegeben wird. Messung der freigesetzten elektromagnetischen Strahlung lässt wiederum Rückschluss auf die integrierte Dosisleistung im Einsatzzeitraum zu."
   ],
   "cell_type": "markdown",
   "metadata": {}
  },
  {
   "source": [
    "## Impulsraten, Nulleffekt"
   ],
   "cell_type": "markdown",
   "metadata": {}
  },
  {
   "source": [
    "## Kobalt-60, Zerfallsart, β, γ - Energien  \n",
    "Kobalt60 zerfällt mit einer Halbwertszeit von $T_{\\frac{1}{2}} = 5,275 a$ zu Nickel60 gemäß\n",
    "\\begin{equation}\n",
    "\t^{60}Co \\longrightarrow ^{60}Ni + \\beta^-_{317,9 keV} + \\gamma_{1,173 MeV} + \\gamma_{1,332 MeV}\n",
    "\\end{equation}  \n",
    "\n",
    "https://de.wikipedia.org/wiki/Dosisleistungskonstante"
   ],
   "cell_type": "markdown",
   "metadata": {}
  },
  {
   "source": [
    "## Abstandsgesetz, Geometriefaktor  \n",
    "Das Abstandsgesetz besagt, dass die Intensität $I$ mit dem Quadrat zur Entfernung der Quelle abnimmt. Oder in anderen Worten: $I = \\frac{const.}{R^2}$  \n",
    "\n",
    "Der Geometriefaktor hängt damit eng zusammen: er ist eine Einheitenlose Zahl und gibt das Verhältnis des vom Detektor eingeschlossenen Raumwinkels um die Probe zum Gesamtraumwinkel an. Bei einem Geometriefaktor von 1 umschließt das Zählvolumen des Messgerätes den gesamten Raumwinkel um die Probe - sämtliche emittierte Strahlung muss das Zählvolumen passieren. Im Falle der Messung von Oberflächenkontamination ist demnach der Geometriefaktor mit $0,5$ (theoretisch) maximiert bei Aufliegen des Messgerätes auf der zu messenden Oberfläche."
   ],
   "cell_type": "markdown",
   "metadata": {}
  }
 ]
}