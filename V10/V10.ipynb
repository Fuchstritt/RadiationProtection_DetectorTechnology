{
 "metadata": {
  "language_info": {
   "codemirror_mode": {
    "name": "ipython",
    "version": 3
   },
   "file_extension": ".py",
   "mimetype": "text/x-python",
   "name": "python",
   "nbconvert_exporter": "python",
   "pygments_lexer": "ipython3",
   "version": "3.9.4"
  },
  "orig_nbformat": 2,
  "kernelspec": {
   "name": "python394jvsc74a57bd04620bb12eb4ef46e1960a9f12585f37adcc952bfb7cabc2e556eb1c9c4f66078",
   "display_name": "Python 3.9.4 64-bit"
  }
 },
 "nbformat": 4,
 "nbformat_minor": 2,
 "cells": [
  {
   "source": [
    "# Vorbereitung  \n",
    "## NaJ(Tl)-Szintillationszähler  \n",
    "Ein Szintillationszähler ist ein Instrument zur Detektion und Quantisierung im Sinne der Energiebestimmung von $\\gamma$-Strahlung. Somit eignet er sich $\\gamma$-Spektren aufzunehmen.  \n",
    "![alt text](referenzen/szintillationszaehler.jpg \"Szintillationszähler\")  \n",
    "Quelle: Eichler, Kronfeldt, Sahm - \"Das neue physikalische Grundpraktikum\", 2016  \n",
    "\n",
    "Im Bild gezeigt der schematische Aufbau bestehend aus Szintillator, Photomultiplier (**S**ekundär**e**lektronen**v**ervielfacher) und (Signal)Verstärker. Der Szintillator selbst besteht häufig aus einem mit Thallium dotierten Natriumjodid-Einkristall. Im Szintillator wird die ionisierende Wechselwirkung der einfallenden Gammas ausgenutzt. Über den Fotoeffekt löst ein Gamma-Quant im NaJ-Kristall ein Elektron aus, welches entweder mit höherer Wahrscheinlichkeit im Kristall selbst unter Wärmeentwicklung wieder absorbiert wird oder mit weniger Wahrscheinlichkeit mit einer der Thallium-Fehlstellen unter Aussendung eines Photons höherer Wellenlänge wieder rekombiniert. Die Anzahl der erzeugten Sekundärphotonen ist proportional der Energie der primären Gammas.  \n",
    "\n",
    "Das Messsignal ist in der Regel eingebettet in einen kontinuierlichen Untergrund. Dieser entsteht durch Streifschüsse der $\\gamma$ und hierdurch entstehende Compton-Photonen geringerer Energie.\n",
    "\n",
    "Typische zeitliche Auflösung: $10^{-7} s$ bis $10^{-10} s$.  \n",
    "Energieauflösung für $^{137}\\text{Cs}$ Gammas liegt bei $\\approx 50 keV$"
   ],
   "cell_type": "markdown",
   "metadata": {}
  },
  {
   "source": [
    "## $\\gamma$-Strahlung, $\\gamma$-Spektrometrie  \n",
    "Als $\\gamma$-Strahlung wird elektromagnetische Strahlung bezeichnet, die ihren Ursprung im Atomkern hat. Natürlich vorkommende $\\gamma$-Strahlung trägt Energien zwischen $10^3$ und $10^6$ eV.  \n",
    "Schick ist, dass durch die diskrete Natur der Zustände der Nuklide bei Übergängen jeweils charakteristische Gammas ausgesandt werden. Zusamlmen bilden sie das sogenannte $\\gamma$-Linienspektrum welches wiederum zur identifikation einzelner Radionuklide genutzt werden kann. Beispielhaft wäre der Zerfall von $^{60}\\text{Co}$ zu $^{60}\\text{Ni}$.\n",
    "\\begin{equation}\n",
    "    ^{60}\\text{Co} \\longrightarrow ^{60}\\text{Ni}^{**} \\longrightarrow ^{60}\\text{Ni}^{*} + \\gamma_{1,17 MeV} \\longrightarrow ^{60}\\text{Ni} + \\gamma_{1,33 MeV}\n",
    "\\end{equation}"
   ],
   "cell_type": "markdown",
   "metadata": {}
  },
  {
   "source": [
    "## WW von $\\gamma$-Strahlung mit Materie, Absorption  \n",
    "![alt text](referenzen/gamma_in_materie.jpg \"Szintillationszähler\")  \n",
    "Quelle: Eichler, Kronfeldt, Sahm - \"Das neue physikalische Grundpraktikum\", 2016  \n",
    "\n",
    "Beim Durchgang von $\\gamma$-Quanten durch Materie gibt es im Wesentlichen drei Arten der Wechselwirkung die jeweils von der Energie der $\\gamma$-Quanten abhängige Häufungswahrscheinlichkeiten besitzen. Diese drei Wechselwirkungsarten sind die Compton-Streuung, Paarbildung und der im Szintillationszähler ausgenutze **Fotoeffekt**. Hieraus folgt, dass es für eine sinnvolle Messung nötig ist die Wahrscheinlichkeit für ein Foto-Event und damit den auf sein Konto gehenden Anteil des Schwächungskoeffizienten zu maximieren.  \n",
    "Im Bild zu sehen ist, dass für (reines?) $\\text{NaJ}$ als Szintillationsmaterial oberhalb einer Energie von $\\approx 1 MeV$ de facto keine fotoelektrische Wechselwirkung mehr stattfindet.  \n",
    "Paarbildung wird erst bei relativ hohen Energien $\\geq 10 MeV$ relevant, was bei den hier verwendeten $\\gamma$-Strahlern praktisch zu vernachlässigen ist."
   ],
   "cell_type": "markdown",
   "metadata": {}
  },
  {
   "source": [
    "## Absorption in Materialien, Halbwertsschichtdicke  \n",
    "\\begin{gather}\n",
    "    P(d_{1/2}) = \\frac{1}{2}P_0 = P_0 \\cdot e^{-\\mu d} \\\\\n",
    "    \\Leftrightarrow \\\\\n",
    "    d = \\frac{ln(2)}{\\mu}\n",
    "\\end{gather}\n",
    "mit der Strahlungsleistung $P$, der Schichtdicke $d$ und dem Schwächungskoeffizienten $\\mu$. $\\mu$ hängt wiederum von der Quantenenergie ab. Obige Gleichung gilt also nur in annäherungsweise bei kleinen Änderungen der $\\gamma$-Energie."
   ],
   "cell_type": "markdown",
   "metadata": {}
  },
  {
   "source": [
    "## Radium 226, Folgeprodukte, Zerfallsreihe  \n",
    "\\begin{align}\n",
    "    ^{226}_{80}\\text{Ra} &\\longrightarrow ^{222}_{86}\\text{Rn} + \\alpha (+ \\gamma_{186 keV}) \\\\\n",
    "    ^{222}_{86}\\text{Rn} &\\longrightarrow ^{218}_{84}\\text{Po} + \\alpha \\\\\n",
    "    ^{218}_{84}\\text{Po} &\\longrightarrow ^{214}_{82}\\text{Pb} + \\alpha \\\\\n",
    "    ^{214}_{82}\\text{Pb} &\\longrightarrow ^{214}_{83}\\text{Bi} + \\beta^- (+\\gamma_{352, 295, 242, 53 keV} \\\\\n",
    "    ^{214}_{83}\\text{Bi} &\\longrightarrow ^{214}_{84}\\text{Po} + \\beta^- (+\\gamma_{609 keV} \\\\\n",
    "    ...\n",
    "\\end{align}"
   ],
   "cell_type": "markdown",
   "metadata": {}
  },
  {
   "source": [
    "## Co-60, Cs-137, Zerfall, $\\gamma$-Quanten  \n",
    "$^{137}Cs$ Fotopeak bei $662 \\text{keV}$  \n",
    "$^{60}Co$ Fotopeak bei $1173$ und $1333 \\text{keV}$"
   ],
   "cell_type": "markdown",
   "metadata": {}
  },
  {
   "source": [
    "# Auswertung  \n",
    "--> Read The Docs <--  \n",
    "https://www.scipy.org/\n",
    "## Messdaten\n",
    "Zunächst die Importe der Bibliotheken und der Daten:"
   ],
   "cell_type": "markdown",
   "metadata": {}
  },
  {
   "cell_type": "code",
   "execution_count": null,
   "metadata": {},
   "outputs": [],
   "source": [
    "import pandas as pd\n",
    "pd.options.mode.chained_assignment = None  # default='warn'\n",
    "import numpy as np\n",
    "import matplotlib.pyplot as plt\n",
    "from scipy.optimize import curve_fit"
   ]
  },
  {
   "cell_type": "code",
   "execution_count": null,
   "metadata": {},
   "outputs": [],
   "source": [
    "sample_path = \"./messdaten/csv/Ra226-1.csv\"\n",
    "sample_path = \"./messdaten/csv/Ra226-2.csv\"\n",
    "# sample_path = \"./messdaten/csv/Co60.csv\"\n",
    "\n",
    "with open(sample_path, newline='', encoding='utf-8') as path:\n",
    "    sample = pd.read_csv(path, delimiter=';')"
   ]
  },
  {
   "source": [
    "Die Dicke der Absorberplatten wurde mit einer handelsüblichen Schieblehre mit einer Abweichung von $\\pm 0,05 \\text{mm}$ gemessen. In den Gesamtfehler der Dicke des Absorbermaterials geht additiv der Fehler jeder Einzelmessung ein.  \n",
    "Hier wird eine Funktion ``getPlateError()`` definiert, die aus der Anzahl der gestapelten Absorber den Gesamtfehler bezüglich der Absorberdicke errechnet..."
   ],
   "cell_type": "markdown",
   "metadata": {}
  },
  {
   "cell_type": "code",
   "execution_count": null,
   "metadata": {},
   "outputs": [],
   "source": [
    "class PlottyStuff():\n",
    "    \"\"\"Class to store and process the aquired data\"\"\"\n",
    "\n",
    "    def __init__(self, sample):\n",
    "        #  compute the total thickness d of the stack and insert as a new column \"d\" right after \"Stack\"\n",
    "\n",
    "        self.Sample = sample\n",
    "        if \"d\" not in self.Sample.columns:\n",
    "            thicknesses = np.zeros(0)\n",
    "            position = self.Sample.columns.get_loc(\"Stack\")\n",
    "            for i, x in enumerate(self.Sample[\"Stack\"]):\n",
    "                thicknesses = np.append(thicknesses, eval(self.Sample[\"Stack\"][i]))\n",
    "            self.Sample.insert(position + 1, \"d\", thicknesses)                       # df.insert(pos, \"col name\", data)\n",
    "\n",
    "        if \"dErr\" not in self.Sample.columns:\n",
    "            noPlates = np.zeros(0)\n",
    "            position = self.Sample.columns.get_loc(\"d\")\n",
    "            for i, x in enumerate(self.Sample[\"Stack\"]):\n",
    "                noPlates = np.append(noPlates, x.count(\"+\") + 1)\n",
    "            self.Sample.insert(position + 1, \"dErr\", noPlates * 0.05)\n",
    "\n",
    "        # self.range1 = sample.columns.get_loc(\"Err\") - 1\n",
    "        # self.range2 = sample.columns.get_loc(\"Err.1\") - 1\n",
    "        self.erange = [label for label in self.Sample.columns.values if label.endswith(\"keV\")]\n",
    "\n",
    "        self.Sample[\"Err\"] = self.Sample[\"Err\"].multiply(self.Sample.iloc[:, 4] * 0.01)\n",
    "        self.Sample[\"Err.1\"] = self.Sample[\"Err.1\"].multiply(self.Sample.iloc[:, 6] * 0.01)\n",
    "\n",
    "        if \"None\" in self.Sample.values:\n",
    "            self.matnone = self.Sample.loc[self.Sample[\"Material\"] == \"None\"]\n",
    "        if \"Fe\" in self.Sample.values:\n",
    "            self.matfe = self.Sample.loc[self.Sample[\"Material\"] == \"Fe\"]\n",
    "        if \"Cu\" in self.Sample.values:\n",
    "            self.matcu = self.Sample.loc[self.Sample[\"Material\"] == \"Cu\"]\n",
    "        if \"Al\" in self.Sample.values:\n",
    "            self.matal = self.Sample.loc[self.Sample[\"Material\"] == \"Al\"]\n",
    "        if \"Pb\" in self.Sample.values:\n",
    "            self.matpb = self.Sample.loc[self.Sample[\"Material\"] == \"Pb\"]\n",
    "\n",
    "    def get_materials(self):\n",
    "        \"\"\"Prints out a list of Materials found in the data set\"\"\"\n",
    "        print(pd.unique(self.Sample[\"Material\"]))"
   ]
  },
  {
   "cell_type": "code",
   "execution_count": null,
   "metadata": {},
   "outputs": [],
   "source": [
    "data = PlottyStuff(sample)\n",
    "del sample"
   ]
  },
  {
   "source": [
    "An der Zeit ein paar plotbare arrays zu erstellen. es wird davon zwei geben - eines, in dem die primärdaten leben und eines, um einen Ort für die Fehlerbalken zu haben."
   ],
   "cell_type": "markdown",
   "metadata": {}
  },
  {
   "cell_type": "code",
   "execution_count": null,
   "metadata": {},
   "outputs": [],
   "source": [
    "cm = 1/2.54 # inch zu cm\n",
    "plt.style.use(\"default\")\n",
    "plt.style.use(\"dark_background\")\n",
    "\n",
    "atts = [att for att in dir(data) if att.startswith(\"mat\")]\n",
    "mats = [getattr(data, atts[i]).iloc[0,0] for i, att in enumerate(atts)]\n",
    "\n",
    "fig, (ax1, ax2) = plt.subplots(ncols=2, figsize=(60*cm, 22.5*cm))\n",
    "\n",
    "for att in atts:\n",
    "    stuff = getattr(data, att)\n",
    "    ax1.errorbar(\n",
    "        stuff[\"d\"],\n",
    "        stuff[data.erange[0]],\n",
    "        xerr=stuff[\"dErr\"],\n",
    "        yerr=stuff[\"Err\"],\n",
    "        linestyle='--')\n",
    "    ax2.errorbar(\n",
    "        stuff[\"d\"],\n",
    "        stuff[data.erange[1]],\n",
    "        xerr=stuff[\"dErr\"],\n",
    "        yerr=stuff[\"Err.1\"],\n",
    "        linestyle='--')\n",
    "\n",
    "ax1.set_xlabel(\"Absorbermaterial Dicke / $mm$\")\n",
    "ax2.set_xlabel(\"Absorbermaterial Dicke / $mm$\")\n",
    "ax1.set_ylabel(\"Zählrate / $cps$\")\n",
    "ax2.set_ylabel(\"Zählrate / $cps$\")\n",
    "ax1.set_title(data.erange[0])\n",
    "ax2.set_title(data.erange[1])\n",
    "ax1.legend(mats)\n",
    "ax2.legend(mats)\n",
    "ax1.grid(axis='both', alpha=.3)\n",
    "ax2.grid(axis='both', alpha=.3)\n",
    "\n",
    "plt.tight_layout()\n",
    "# plt.grid(axis='both', alpha=.3)\n",
    "plt.savefig(\"./testplot.png\")"
   ]
  },
  {
   "cell_type": "code",
   "execution_count": null,
   "metadata": {},
   "outputs": [],
   "source": [
    "def funct(x, N, u, c):\n",
    "    return N * np.exp(-1 * u * x) + c"
   ]
  },
  {
   "cell_type": "code",
   "execution_count": null,
   "metadata": {},
   "outputs": [],
   "source": [
    "for att in atts:\n",
    "    popt, pcov = curve_fit(funct, getattr(data, atts[0])[\"d\"], getattr(data, atts[0])[\"61 - 95 keV\"])\n",
    "    perr = np.sqrt(np.diag(pcov))\n",
    "print(\"Optimale Parameter:\")\n",
    "print(\"A:\", popt[0], \" lambda:\", popt[1], \" B:\", popt[2])\n",
    "print(perr)"
   ]
  }
 ]
}