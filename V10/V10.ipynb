{
 "metadata": {
  "language_info": {
   "codemirror_mode": {
    "name": "ipython",
    "version": 3
   },
   "file_extension": ".py",
   "mimetype": "text/x-python",
   "name": "python",
   "nbconvert_exporter": "python",
   "pygments_lexer": "ipython3",
   "version": "3.9.4"
  },
  "orig_nbformat": 2,
  "kernelspec": {
   "name": "python394jvsc74a57bd04620bb12eb4ef46e1960a9f12585f37adcc952bfb7cabc2e556eb1c9c4f66078",
   "display_name": "Python 3.9.4 64-bit"
  }
 },
 "nbformat": 4,
 "nbformat_minor": 2,
 "cells": [
  {
   "source": [
    "# Vorbereitung  \n",
    "## NaJ(Tl)-Szintillationszähler  \n",
    "Ein Szintillationszähler ist ein Instrument zur Detektion und Quantisierung im Sinne der Energiebestimmung von $\\gamma$-Strahlung. Somit eignet er sich $\\gamma$-Spektren aufzunehmen.  \n",
    "![alt text](referenzen/szintillationszaehler.jpg \"Szintillationszähler\")  \n",
    "Quelle: Eichler, Kronfeldt, Sahm - \"Das neue physikalische Grundpraktikum\", 2016  \n",
    "\n",
    "Im Bild gezeigt der schematische Aufbau bestehend aus Szintillator, Photomultiplier (**S**ekundär**e**lektronen**v**ervielfacher) und (Signal)Verstärker. Der Szintillator selbst besteht häufig aus einem mit Thallium dotierten Natriumjodid-Einkristall. Im Szintillator wird die ionisierende Wechselwirkung der einfallenden Gammas ausgenutzt. Über den Fotoeffekt löst ein Gamma-Quant im NaJ-Kristall ein Elektron aus, welches entweder mit höherer Wahrscheinlichkeit im Kristall selbst unter Wärmeentwicklung wieder absorbiert wird oder mit weniger Wahrscheinlichkeit mit einer der Thallium-Fehlstellen unter Aussendung eines Photons höherer Wellenlänge wieder rekombiniert. Die Anzahl der erzeugten Sekundärphotonen ist proportional der Energie der primären Gammas.  \n",
    "\n",
    "Das Messsignal ist in der Regel eingebettet in einen kontinuierlichen Untergrund. Dieser entsteht durch Streifschüsse der $\\gamma$ und hierdurch entstehende Compton-Photonen geringerer Energie.\n",
    "\n",
    "Typische zeitliche Auflösung: $10^{-7} s$ bis $10^{-10} s$.  \n",
    "Energieauflösung für $^{137}\\text{Cs}$ Gammas liegt bei $\\approx 50 keV$"
   ],
   "cell_type": "markdown",
   "metadata": {}
  },
  {
   "source": [
    "## $\\gamma$-Strahlung, $\\gamma$-Spektrometrie  \n",
    "Als $\\gamma$-Strahlung wird elektromagnetische Strahlung bezeichnet, die ihren Ursprung im Atomkern hat. Natürlich vorkommende $\\gamma$-Strahlung trägt Energien zwischen $10^3$ und $10^6$ eV.  \n",
    "Schick ist, dass durch die diskrete Natur der Zustände der Nuklide bei Übergängen jeweils charakteristische Gammas ausgesandt werden. Zusamlmen bilden sie das sogenannte $\\gamma$-Linienspektrum welches wiederum zur identifikation einzelner Radionuklide genutzt werden kann. Beispielhaft wäre der Zerfall von $^{60}\\text{Co}$ zu $^{60}\\text{Ni}$.\n",
    "\\begin{equation}\n",
    "    ^{60}\\text{Co} \\longrightarrow ^{60}\\text{Ni}^{**} \\longrightarrow ^{60}\\text{Ni}^{*} + \\gamma_{1,17 MeV} \\longrightarrow ^{60}\\text{Ni} + \\gamma_{1,33 MeV}\n",
    "\\end{equation}"
   ],
   "cell_type": "markdown",
   "metadata": {}
  },
  {
   "source": [
    "## WW von $\\gamma$-Strahlung mit Materie, Absorption  \n",
    "![alt text](referenzen/gamma_in_materie.jpg \"Szintillationszähler\")  \n",
    "Quelle: Eichler, Kronfeldt, Sahm - \"Das neue physikalische Grundpraktikum\", 2016  \n",
    "\n",
    "Beim Durchgang von $\\gamma$-Quanten durch Materie gibt es im Wesentlichen drei Arten der Wechselwirkung die jeweils von der Energie der $\\gamma$-Quanten abhängige Häufungswahrscheinlichkeiten besitzen. Diese drei Wechselwirkungsarten sind die Compton-Streuung, Paarbildung und der im Szintillationszähler ausgenutze **Fotoeffekt**. Hieraus folgt, dass es für eine sinnvolle Messung nötig ist die Wahrscheinlichkeit für ein Foto-Event und damit den auf sein Konto gehenden Anteil des Schwächungskoeffizienten zu maximieren.  \n",
    "Im Bild zu sehen ist, dass für (reines?) $\\text{NaJ}$ als Szintillationsmaterial oberhalb einer Energie von $\\approx 1 MeV$ de facto keine fotoelektrische Wechselwirkung mehr stattfindet.  \n",
    "Paarbildung wird erst bei relativ hohen Energien $\\geq 10 MeV$ relevant, was bei den hier verwendeten $\\gamma$-Strahlern praktisch zu vernachlässigen ist."
   ],
   "cell_type": "markdown",
   "metadata": {}
  },
  {
   "source": [
    "## Absorption in Materialien, Halbwertsschichtdicke  \n",
    "\\begin{gather}\n",
    "    P(d_{1/2}) = \\frac{1}{2}P_0 = P_0 \\cdot e^{-\\mu d} \\\\\n",
    "    \\Leftrightarrow \\\\\n",
    "    d = \\frac{ln(2)}{\\mu}\n",
    "\\end{gather}\n",
    "mit der Strahlungsleistung $P$, der Schichtdicke $d$ und dem Schwächungskoeffizienten $\\mu$. $\\mu$ hängt wiederum von der Quantenenergie ab. Obige Gleichung gilt also nur in annäherungsweise bei kleinen Änderungen der $\\gamma$-Energie."
   ],
   "cell_type": "markdown",
   "metadata": {}
  },
  {
   "source": [
    "## Radium 226, Folgeprodukte, Zerfallsreihe  \n",
    "\\begin{align}\n",
    "    ^{226}_{80}\\text{Ra} &\\longrightarrow ^{222}_{86}\\text{Rn} + \\alpha (+ \\gamma_{186 keV}) \\\\\n",
    "    ^{222}_{86}\\text{Rn} &\\longrightarrow ^{218}_{84}\\text{Po} + \\alpha \\\\\n",
    "    ^{218}_{84}\\text{Po} &\\longrightarrow ^{214}_{82}\\text{Pb} + \\alpha \\\\\n",
    "    ^{214}_{82}\\text{Pb} &\\longrightarrow ^{214}_{83}\\text{Bi} + \\beta^- (+\\gamma_{352, 295, 242, 53 keV} \\\\\n",
    "    ^{214}_{83}\\text{Bi} &\\longrightarrow ^{214}_{84}\\text{Po} + \\beta^- (+\\gamma_{609 keV} \\\\\n",
    "    ...\n",
    "\\end{align}"
   ],
   "cell_type": "markdown",
   "metadata": {}
  },
  {
   "source": [
    "## Co-60, Cs-137, Zerfall, $\\gamma$-Quanten  \n",
    "$^{137}Cs$ Fotopeak bei $662 \\text{keV}$  \n",
    "$^{60}Co$ Fotopeak bei $1173$ und $1333 \\text{keV}$"
   ],
   "cell_type": "markdown",
   "metadata": {}
  },
  {
   "source": [
    "# Auswertung  \n",
    "--> Read The Docs <--  \n",
    "https://www.scipy.org/\n",
    "## Messdaten\n",
    "Zunächst die Importe der Bibliotheken und der Daten:"
   ],
   "cell_type": "markdown",
   "metadata": {}
  },
  {
   "cell_type": "code",
   "execution_count": 1,
   "metadata": {},
   "outputs": [],
   "source": [
    "import pandas as pd\n",
    "pd.options.mode.chained_assignment = None  # default='warn'\n",
    "import numpy as np\n",
    "import matplotlib.pyplot as plt"
   ]
  },
  {
   "cell_type": "code",
   "execution_count": 68,
   "metadata": {},
   "outputs": [],
   "source": [
    "sampleA_file = \"./messdaten/csv/Ra226-1.csv\"\n",
    "sampleB_file = \"./messdaten/csv/Ra226-2.csv\"\n",
    "sampleC_file = \"./messdaten/csv/Co60.csv\"\n",
    "\n",
    "with open(sampleA_file, newline='', encoding='utf-8'):\n",
    "    sampleA = pd.read_csv(sampleA_file, delimiter=';')\n",
    "with open(sampleB_file, newline='', encoding='utf-8'):\n",
    "    sampleB = pd.read_csv(sampleB_file, delimiter=';')\n",
    "with open(sampleC_file, newline='', encoding='utf-8'):\n",
    "    sampleC = pd.read_csv(sampleC_file, delimiter=';')"
   ]
  },
  {
   "cell_type": "code",
   "execution_count": 15,
   "metadata": {},
   "outputs": [
    {
     "output_type": "stream",
     "name": "stdout",
     "text": [
      "   Material                        Stack      d  61 - 95 keV  Err  \\\n0      None                            0   0.00      22990.0  0.7   \n1        Fe                          1.4   1.40      16541.0  0.8   \n2        Fe                         1.95   1.95      14644.0  0.8   \n3        Fe                     2.45+2.5   4.95      10022.0  1.0   \n4        Fe                  1.5+4.5+3.9   9.90       8039.0  1.1   \n5        Fe       3.35+4.5+1.95+4.25+3.9  17.95       7224.0  1.2   \n6        Cu                         1.15   1.15      15410.0  0.8   \n7        Cu                            2   2.00      12255.0  0.9   \n8        Cu                    3.95+1.15   5.10       9215.0  1.0   \n9        Cu           3.95+2.95+2.0+1.15  10.05       7686.0  1.1   \n10       Cu  4.0+3.95+3.95+3.45+1.5+1.15  18.00       6999.0  1.2   \n\n    230 - 269 keV  Err.1  \n0          9130.0    1.0  \n1          8515.0    1.1  \n2          8473.0    1.1  \n3          7610.0    1.0  \n4          6098.0    1.3  \n5          4685.0    1.5  \n6          8730.0    1.1  \n7          8415.0    1.1  \n8          7635.0    1.1  \n9          6170.0    1.3  \n10         4243.0    1.5  \n"
     ]
    }
   ],
   "source": [
    "print(sampleA.head(11))"
   ]
  },
  {
   "source": [
    "Die Dicke der Absorberplatten wurde mit einer handelsüblichen Schieblehre mit einer Abweichung von $\\pm 0,05 \\text{mm}$ gemessen. In den Gesamtfehler der Dicke des Absorbermaterials geht additiv der Fehler jeder Einzelmessung ein.  \n",
    "Hier wird eine Funktion ``getPlateError()`` definiert, die aus der Anzahl der gestapelten Absorber den Gesamtfehler bezüglich der Absorberdicke errechnet..."
   ],
   "cell_type": "markdown",
   "metadata": {}
  },
  {
   "cell_type": "code",
   "execution_count": 3,
   "metadata": {},
   "outputs": [],
   "source": [
    "def getThickness(sample):                                               # inserts a column containing the absolute absorber thickness\n",
    "    if \"d\" not in sample.columns:\n",
    "        thicknesses = np.zeros(0)\n",
    "        position = sample.columns.get_loc(\"Stack\")\n",
    "        for i, x in enumerate(sample[\"Stack\"]):\n",
    "            thicknesses = np.append(thicknesses, eval(sample[\"Stack\"][i]))  # df.iloc[row, col] (integer indexed)\n",
    "        sample.insert(position + 1, \"d\", thicknesses)                       # df.insert(pos, \"col name\", data)\n",
    "    else:\n",
    "        print(\"Col. \\\"d\\\" already created. Nothing to do here.\")"
   ]
  },
  {
   "cell_type": "code",
   "execution_count": 67,
   "metadata": {},
   "outputs": [],
   "source": [
    "def getOopsies(sample, oopsie):                                         # inserts a column containing oopsies\n",
    "    if \"dErr\" not in sample.columns:\n",
    "        noPlates = np.zeros(0)\n",
    "        position = sample.columns.get_loc(\"d\")\n",
    "        for i, x in enumerate(sample[\"Stack\"]):\n",
    "            noPlates = np.append(noPlates, sample[\"Stack\"][i].count('+') + 1)\n",
    "        sample.insert(position + 1, \"dErr\", noPlates * oopsie)\n",
    "    else:\n",
    "        print(\"Col. \\\"dErr\\\" already created.\")\n",
    "    \n",
    "    range1 = sample.columns.get_loc(\"Err\") - 1\n",
    "    range2 = sample.columns.get_loc(\"Err.1\") - 1\n",
    "    sample[\"Err\"] = sample[\"Err\"].multiply(sample.iloc[:, 4] * 0.01)\n",
    "    sample[\"Err.1\"] = sample[\"Err.1\"].multiply(sample.iloc[:, 6] * 0.01)"
   ]
  },
  {
   "source": [
    "An der Zeit ein paar plotbare arrays zu erstellen. es wird davon zwei geben - eines, in dem die primärdaten leben und eines, um einen Ort für die Fehlerbalken zu haben."
   ],
   "cell_type": "markdown",
   "metadata": {}
  },
  {
   "cell_type": "code",
   "execution_count": 69,
   "metadata": {},
   "outputs": [
    {
     "output_type": "stream",
     "name": "stdout",
     "text": [
      "   Material                        Stack      d  dErr  61 - 95 keV        Err  \\\n0      None                            0   0.00  0.05     22990.00  160.93000   \n1        Fe                          1.4   1.40  0.05     16541.00  132.32800   \n2        Fe                         1.95   1.95  0.05     14644.00  117.15200   \n3        Fe                     2.45+2.5   4.95  0.10     10022.00  100.22000   \n4        Fe                  1.5+4.5+3.9   9.90  0.15      8039.00   88.42900   \n5        Fe       3.35+4.5+1.95+4.25+3.9  17.95  0.25      7224.00   86.68800   \n6        Cu                         1.15   1.15  0.05     15410.00  123.28000   \n7        Cu                            2   2.00  0.05     12255.00  110.29500   \n8        Cu                    3.95+1.15   5.10  0.10      9215.00   92.15000   \n9        Cu           3.95+2.95+2.0+1.15  10.05  0.20      7686.00   84.54600   \n10       Cu  4.0+3.95+3.95+3.45+1.5+1.15  18.00  0.30      6999.00   83.98800   \n11       Al                            1   1.00  0.05     22487.00  157.40900   \n12       Al                     1.0+0.95   1.95  0.10     22013.00  154.09100   \n13       Al                      2.5+2.5   5.00  0.10     20576.00  144.03200   \n14       Al              2.5+2.5+1.0+4.0  10.00  0.20     18159.00  127.11300   \n15       Al             4.9+4.9+3+4+1.45  18.25  0.25     15406.00  123.24800   \n16       Pb                          1.1   1.10  0.05      4227.00   63.40500   \n17       Pb                      1.1+1.3   2.40  0.10      3255.00   58.59000   \n18       Pb                  1.1+1.3+1.3   3.70  0.15      2657.00   50.48300   \n19       Pb                            5   5.00  0.05       258.00   17.54400   \n20       Pb                           10  10.00  0.05        30.81    9.30462   \n\n    230 - 269 keV     Err.1  \n0         9130.00  91.30000  \n1         8515.00  93.66500  \n2         8473.00  93.20300  \n3         7610.00  76.10000  \n4         6098.00  79.27400  \n5         4685.00  70.27500  \n6         8730.00  96.03000  \n7         8415.00  92.56500  \n8         7635.00  83.98500  \n9         6170.00  80.21000  \n10        4243.00  63.64500  \n11        9050.00  90.50000  \n12        8801.00  96.81100  \n13        8691.00  95.60100  \n14        8220.00  90.42000  \n15        7162.00  85.94400  \n16        1716.00  41.18400  \n17        1006.00  32.19200  \n18         757.00  28.00900  \n19         165.00  14.19000  \n20          21.86   7.78216  \n"
     ]
    }
   ],
   "source": [
    "getThickness(sampleA)\n",
    "getOopsies(sampleA, 0.05)\n",
    "print(sampleA)"
   ]
  },
  {
   "cell_type": "code",
   "execution_count": null,
   "metadata": {},
   "outputs": [],
   "source": [
    "getThickness(sampleA)\n",
    "getOopsies(sampleA, 0.05)\n",
    "print(sampleA.head(12))"
   ]
  },
  {
   "cell_type": "code",
   "execution_count": null,
   "metadata": {},
   "outputs": [],
   "source": [
    "def plottyStuff(sample, material, erange):\n",
    "    sample[]\n",
    "\n",
    "    return sliced"
   ]
  },
  {
   "source": [
    "Was können wir bis hier hin alles machen?  \n",
    "``getThickness()`` gibt uns die Dicke des Absorberstapels in mm und nimmt als Argument eines der DataFrames.   \n",
    "``getOopsies()`` liefert die Abweichungen zu jeweils den Dicken und den Counts. Als Argumente werden hier einerseits wieder eines der DataFrames übergeben und andererseits diesmal aber auch die Toleranzangabe des Instruments zur Messung der Dicke der Absorberplättchen.  \n",
    "**Achtung, Bug:** die beiden Funktionen müssen derzeit noch in genau dieser Reihenfolge aufgerufen werden (``getThickness()`` -> ``getOopsies()``)."
   ],
   "cell_type": "markdown",
   "metadata": {}
  },
  {
   "cell_type": "code",
   "execution_count": null,
   "metadata": {},
   "outputs": [],
   "source": [
    "nuklide1 = sliceFrame(sampleA, \"Al\")\n",
    "nuklide2 = sliceFrame(sampleA, \"Al\")\n",
    "\n",
    "cm = 1/2.54 # inch zu cm\n",
    "fig, ax = plt.subplots(figsize=(35*cm, 19.69*cm))\n",
    "\n",
    "ax.scatter(nuklide1[\"d\"], nuklide1[\"61 - 95 keV\"])\n",
    "ax.errorbar(nuklide1[\"d\"], nuklide1[\"61 - 95 keV\"], nuklide1[\"dErr\"])\n",
    "ax.scatter(nuklide2[\"d\"], nuklide2[\"230 - 269 keV\"])"
   ]
  },
  {
   "cell_type": "code",
   "execution_count": null,
   "metadata": {},
   "outputs": [],
   "source": []
  }
 ]
}