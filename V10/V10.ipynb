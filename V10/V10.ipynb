{
 "metadata": {
  "language_info": {
   "codemirror_mode": {
    "name": "ipython",
    "version": 3
   },
   "file_extension": ".py",
   "mimetype": "text/x-python",
   "name": "python",
   "nbconvert_exporter": "python",
   "pygments_lexer": "ipython3",
   "version": "3.9.4"
  },
  "orig_nbformat": 2,
  "kernelspec": {
   "name": "python3",
   "display_name": "Python 3.9.4 64-bit"
  },
  "interpreter": {
   "hash": "4620bb12eb4ef46e1960a9f12585f37adcc952bfb7cabc2e556eb1c9c4f66078"
  }
 },
 "nbformat": 4,
 "nbformat_minor": 2,
 "cells": [
  {
   "cell_type": "markdown",
   "source": [
    "# Vorbereitung  \n",
    "## NaJ(Tl)-Szintillationszähler  \n",
    "Ein Szintillationszähler ist ein Instrument zur Detektion und Quantisierung im Sinne der Energiebestimmung von $\\gamma$-Strahlung. Somit eignet er sich $\\gamma$-Spektren aufzunehmen.  \n",
    "![alt text](referenzen/szintillationszaehler.jpg \"Szintillationszähler\")  \n",
    "Quelle: Eichler, Kronfeldt, Sahm - \"Das neue physikalische Grundpraktikum\", 2016  \n",
    "\n",
    "Im Bild gezeigt der schematische Aufbau bestehend aus Szintillator, Photomultiplier (**S**ekundär**e**lektronen**v**ervielfacher) und (Signal)Verstärker. Der Szintillator selbst besteht häufig aus einem mit Thallium dotierten Natriumjodid-Einkristall. Im Szintillator wird die ionisierende Wechselwirkung der einfallenden Gammas ausgenutzt. Über den Fotoeffekt löst ein Gamma-Quant im NaJ-Kristall ein Elektron aus, welches entweder mit höherer Wahrscheinlichkeit im Kristall selbst unter Wärmeentwicklung wieder absorbiert wird oder mit weniger Wahrscheinlichkeit mit einer der Thallium-Fehlstellen unter Aussendung eines Photons höherer Wellenlänge wieder rekombiniert. Die Anzahl der erzeugten Sekundärphotonen ist proportional der Energie der primären Gammas.  \n",
    "\n",
    "Das Messsignal ist in der Regel eingebettet in einen kontinuierlichen Untergrund. Dieser entsteht durch Streifschüsse der $\\gamma$ und hierdurch entstehende Compton-Photonen geringerer Energie.\n",
    "\n",
    "Typische zeitliche Auflösung: $10^{-7} s$ bis $10^{-10} s$.  \n",
    "Energieauflösung für $^{137}\\text{Cs}$ Gammas liegt bei $\\approx 50 keV$"
   ],
   "metadata": {}
  },
  {
   "cell_type": "markdown",
   "source": [
    "## $\\gamma$-Strahlung, $\\gamma$-Spektrometrie  \r\n",
    "Als $\\gamma$-Strahlung wird elektromagnetische Strahlung bezeichnet, die ihren Ursprung im Atomkern hat. Natürlich vorkommende $\\gamma$-Strahlung trägt Energien zwischen $10^3$ und $10^6$ eV.  \r\n",
    "Schick ist, dass durch die diskrete Natur der Zustände der Nuklide bei Übergängen jeweils charakteristische Gammas ausgesandt werden. Zusammen bilden sie das sogenannte $\\gamma$-Linienspektrum welches wiederum zur identifikation einzelner Radionuklide genutzt werden kann. Beispielhaft wäre der Zerfall von $^{60}\\text{Co}$ zu $^{60}\\text{Ni}$.\r\n",
    "$$\r\n",
    "\\begin{equation}\r\n",
    "    ^{60}\\text{Co} \\longrightarrow ^{60}\\text{Ni}^{**} \\longrightarrow ^{60}\\text{Ni}^{*} + \\gamma_{1,17 MeV} \\longrightarrow ^{60}\\text{Ni} + \\gamma_{1,33 MeV}\r\n",
    "\\end{equation}\r\n",
    "$$"
   ],
   "metadata": {}
  },
  {
   "cell_type": "markdown",
   "source": [
    "## WW von $\\gamma$-Strahlung mit Materie, Absorption  \r\n",
    "![alt text](referenzen/gamma_in_materie.jpg \"Szintillationszähler\")  \r\n",
    "Quelle: Eichler, Kronfeldt, Sahm - \"Das neue physikalische Grundpraktikum\", 2016  \r\n",
    "\r\n",
    "Beim Durchgang von $\\gamma$-Quanten durch Materie gibt es im Wesentlichen drei Arten der Wechselwirkung die jeweils von der Energie der $\\gamma$-Quanten abhängige Häufungswahrscheinlichkeiten besitzen. Diese drei Wechselwirkungsarten sind die Compton-Streuung, Paarbildung und der im Szintillationszähler ausgenutze **Fotoeffekt**. Hieraus folgt, dass es für eine sinnvolle Messung nötig ist die Wahrscheinlichkeit für ein Foto-Event und damit den auf sein Konto gehenden Anteil des Schwächungskoeffizienten zu maximieren.  \r\n",
    "Im Bild zu sehen ist, dass für (reines?) $\\text{NaJ}$ als Szintillationsmaterial oberhalb einer Energie von $\\approx 1 MeV$ de facto keine fotoelektrische Wechselwirkung mehr stattfindet.  \r\n",
    "Paarbildung wird erst bei relativ hohen Energien $\\geq 10 MeV$ relevant, was bei den hier verwendeten $\\gamma$-Strahlern praktisch zu vernachlässigen ist."
   ],
   "metadata": {}
  },
  {
   "cell_type": "markdown",
   "source": [
    "## Absorption in Materialien, Halbwertsschichtdicke  \r\n",
    "$$\r\n",
    "\\begin{gather}\r\n",
    "    P(d_{1/2}) = \\frac{1}{2}P_0 = P_0 \\cdot e^{-\\mu d} \\\\\r\n",
    "    \\Leftrightarrow \\\\\r\n",
    "    d = \\frac{ln(2)}{\\mu}\r\n",
    "\\end{gather}\r\n",
    "$$\r\n",
    "mit der Strahlungsleistung $P$, der Schichtdicke $d$ und dem Schwächungskoeffizienten $\\mu$. $\\mu$ hängt wiederum von der Quantenenergie ab. Obige Gleichung gilt also nur in annäherungsweise bei kleinen Änderungen der $\\gamma$-Energie."
   ],
   "metadata": {}
  },
  {
   "cell_type": "markdown",
   "source": [
    "## Radium 226, Folgeprodukte, Zerfallsreihe\r\n",
    "$$\r\n",
    "\\begin{align}\r\n",
    "    ^{226}_{80}\\text{Ra} &\\longrightarrow ^{222}_{86}\\text{Rn} + \\alpha (+ \\gamma_{186 keV}) \\\\\r\n",
    "    ^{222}_{86}\\text{Rn} &\\longrightarrow ^{218}_{84}\\text{Po} + \\alpha \\\\\r\n",
    "    ^{218}_{84}\\text{Po} &\\longrightarrow ^{214}_{82}\\text{Pb} + \\alpha \\\\\r\n",
    "    ^{214}_{82}\\text{Pb} &\\longrightarrow ^{214}_{83}\\text{Bi} + \\beta^- (+\\gamma_{352, 295, 242, 53 keV} \\\\\r\n",
    "    ^{214}_{83}\\text{Bi} &\\longrightarrow ^{214}_{84}\\text{Po} + \\beta^- (+\\gamma_{609 keV} \\\\\r\n",
    "    ...\r\n",
    "\\end{align}\r\n",
    "$$"
   ],
   "metadata": {}
  },
  {
   "cell_type": "markdown",
   "source": [
    "## Co-60, Cs-137, Zerfall, $\\gamma$-Quanten  \r\n",
    "$^{137}Cs$ Fotopeak bei $662 \\text{keV}$  \r\n",
    "$^{60}Co$ Fotopeak bei $1173$ und $1333 \\text{keV}$"
   ],
   "metadata": {}
  },
  {
   "cell_type": "markdown",
   "source": [
    "# Aufbau"
   ],
   "metadata": {}
  },
  {
   "cell_type": "markdown",
   "source": [],
   "metadata": {}
  },
  {
   "cell_type": "markdown",
   "source": [
    "# Auswertung  \r\n",
    "--> Read The Docs <--  \r\n",
    "[https://www.scipy.org/](https://www.scipy.org/)"
   ],
   "metadata": {}
  },
  {
   "cell_type": "markdown",
   "source": [
    "Zunächst die Importe der Bibliotheken und der Daten:"
   ],
   "metadata": {}
  },
  {
   "cell_type": "code",
   "execution_count": null,
   "source": [
    "import pandas as pd\r\n",
    "pd.options.mode.chained_assignment = None  # default='warn'\r\n",
    "import numpy as np\r\n",
    "import matplotlib.pyplot as plt\r\n",
    "from scipy.optimize import curve_fit"
   ],
   "outputs": [],
   "metadata": {}
  },
  {
   "cell_type": "markdown",
   "source": [
    "In der nächsten Code-Zelle können die Daten, die nicht geplottet werden sollen, auskommentiert werden."
   ],
   "metadata": {}
  },
  {
   "cell_type": "code",
   "execution_count": null,
   "source": [
    "sample1_path = \"./messdaten/csv/Ra226-1.csv\"\r\n",
    "sample2_path = \"./messdaten/csv/Ra226-2.csv\"\r\n",
    "sample3_path = \"./messdaten/csv/Co60.csv\"\r\n",
    "\r\n",
    "# Opening the data\r\n",
    "with open(sample1_path, newline='', encoding='utf-8') as path:\r\n",
    "    sample1 = pd.read_csv(path, delimiter=';')\r\n",
    "with open(sample2_path, newline='', encoding='utf-8') as path:\r\n",
    "    sample2 = pd.read_csv(path, delimiter=';')\r\n",
    "with open(sample3_path, newline='', encoding='utf-8') as path:\r\n",
    "    sample3 = pd.read_csv(path, delimiter=';')"
   ],
   "outputs": [],
   "metadata": {}
  },
  {
   "cell_type": "markdown",
   "source": [
    "Die Dicke der Absorberplatten wurde mit einer handelsüblichen Schieblehre mit einer Abweichung von $\\pm 0,05 \\text{mm}$ gemessen. In den Gesamtfehler der Dicke des Absorbermaterials geht additiv der Fehler jeder Einzelmessung ein.  \r\n",
    "\r\n",
    "Hier wird eine Klasse ``PlottyStuff()`` definiert, die sich um die Berechnung der kumulierten Absorberdicken, Fehler usw. kümmert. Außerdem werden die Messwerte für die jeweiligen Absorbermaterialien in jeweilige Attribute der Klasse ``PlottyStuff()`` aufrufbar abgelegt."
   ],
   "metadata": {}
  },
  {
   "cell_type": "code",
   "execution_count": null,
   "source": [
    "class PlottyStuff():\r\n",
    "    \"\"\"Class to store and process the aquired data\"\"\"\r\n",
    "\r\n",
    "    def __init__(self, sample):\r\n",
    "        #  compute the total thickness d of the stack and insert as a new column \"d\" right after \"Stack\"\r\n",
    "\r\n",
    "        self.Sample = sample\r\n",
    "        if \"d\" not in self.Sample.columns:\r\n",
    "            thicknesses = np.zeros(0)\r\n",
    "            position = self.Sample.columns.get_loc(\"Stack\")\r\n",
    "            for i, x in enumerate(self.Sample[\"Stack\"]):\r\n",
    "                thicknesses = np.append(thicknesses, eval(self.Sample[\"Stack\"][i]))\r\n",
    "            self.Sample.insert(position + 1, \"d\", thicknesses)                       # df.insert(pos, \"col name\", data)\r\n",
    "\r\n",
    "        # compute the total error of the thicknesses\r\n",
    "        if \"dErr\" not in self.Sample.columns:\r\n",
    "            noPlates = np.zeros(0)\r\n",
    "            position = self.Sample.columns.get_loc(\"d\")\r\n",
    "            for i, x in enumerate(self.Sample[\"Stack\"]):\r\n",
    "                noPlates = np.append(noPlates, x.count(\"+\") + 1)\r\n",
    "            self.Sample.insert(position + 1, \"dErr\", noPlates * 0.05)\r\n",
    "\r\n",
    "        # Get the labels, might come in handy for the final plots\r\n",
    "        # self.range1 = sample.columns.get_loc(\"Err\") - 1\r\n",
    "        # self.range2 = sample.columns.get_loc(\"Err.1\") - 1\r\n",
    "        self.erange = [label for label in self.Sample.columns.values if label.endswith(\"keV\")]\r\n",
    "\r\n",
    "        # Relative to absolute Error\r\n",
    "        self.Sample[\"Err\"] = self.Sample[\"Err\"].multiply(self.Sample.iloc[:, 4] * 0.01)\r\n",
    "        self.Sample[\"Err.1\"] = self.Sample[\"Err.1\"].multiply(self.Sample.iloc[:, 6] * 0.01)\r\n",
    "\r\n",
    "        # Here we define some attributes to store and call the final data\r\n",
    "        if \"None\" in self.Sample.values:\r\n",
    "            self.matnone = self.Sample.loc[self.Sample[\"Material\"] == \"None\"]\r\n",
    "        if \"Fe\" in self.Sample.values:\r\n",
    "            self.matfe = self.Sample.loc[self.Sample[\"Material\"] == \"Fe\"]\r\n",
    "        if \"Cu\" in self.Sample.values:\r\n",
    "            self.matcu = self.Sample.loc[self.Sample[\"Material\"] == \"Cu\"]\r\n",
    "        if \"Al\" in self.Sample.values:\r\n",
    "            self.matal = self.Sample.loc[self.Sample[\"Material\"] == \"Al\"]\r\n",
    "        if \"Pb\" in self.Sample.values:\r\n",
    "            self.matpb = self.Sample.loc[self.Sample[\"Material\"] == \"Pb\"]\r\n",
    "\r\n",
    "    # Getter function to look up types absorband materials\r\n",
    "    def get_materials(self):\r\n",
    "        \"\"\"Prints out a list of Materials found in the data set\"\"\"\r\n",
    "        print(pd.unique(self.Sample[\"Material\"]))"
   ],
   "outputs": [],
   "metadata": {}
  },
  {
   "cell_type": "markdown",
   "source": [
    "Initialisieren der drei (Isotopen/Messdaten-) Objekte vom Typ ``PlottyStuff`` und anschließendes Löschen der eingelesenen Rohdaten aus dem Speicher."
   ],
   "metadata": {}
  },
  {
   "cell_type": "code",
   "execution_count": null,
   "source": [
    "ra226_1 = PlottyStuff(sample1)\r\n",
    "ra226_2 = PlottyStuff(sample2)\r\n",
    "co60 = PlottyStuff(sample3)\r\n",
    "# print(sample1)\r\n",
    "del sample1, sample2, sample3"
   ],
   "outputs": [],
   "metadata": {}
  },
  {
   "cell_type": "markdown",
   "source": [
    "Wir definieren die Modellfunktion nach $N(d) = N_0 \\cdot e^{-\\mu \\cdot d}$ (wie oben beschrieben) zur Berechnung der Absorptionskoeffizienten $\\mu$."
   ],
   "metadata": {}
  },
  {
   "cell_type": "code",
   "execution_count": null,
   "source": [
    "def attenuation(d, Nzero, u, deltad):\r\n",
    "    return (Nzero * np.exp(-u * (d - deltad)))\r\n",
    "\r\n",
    "def attenuation_offset(d, Nzero, u, deltad, c):\r\n",
    "    return (Nzero * np.exp(-u * (d - deltad)) + c)"
   ],
   "outputs": [],
   "metadata": {}
  },
  {
   "cell_type": "markdown",
   "source": [
    "Kleiner Test ob denn auch alles funktioniert wie gedacht:\r\n",
    "\r\n",
    "``initial_guesses``: Die beiden Unbekannten $N_0$ und $\\mu$ der Modellfunktion müssen nicht unbedingt, können aber vorher abgeschätzt werden. Hier wird für $N_0$ der höchste Wert der Zählrate für ein Material, für $\\mu$ wird ein willkürlicher Wert im Bereich einer sinnvollen Größenordnung gewählt.\r\n",
    "\r\n",
    "``bounds``: Für beide Parameter haben negative Werte keine physikalische Entsprechung. Da $N_0$ allerdings bekannt ist, kann die Abschätzung auf den Bereich $\\pm$ der in den Daten enthaltenen Abweichung eingegrenzt werden. Der Absorptionskoeffizient wird auf $0 < \\mu \\leq 2$ begrenzt."
   ],
   "metadata": {}
  },
  {
   "cell_type": "code",
   "execution_count": null,
   "source": [
    "def get_vals(data, erange):\r\n",
    "\tinitial_guesses = [data[erange].iloc[0], 0.2, data[\"d\"].iloc[0]] # initial guesses for Nzero, u and deltad.\r\n",
    "\t# constraining the optimization of Nzero to the initial guess val for Nzero\r\n",
    "\tbounds = (\r\n",
    "\t\t[data[erange].iloc[0] - data.iloc[0,5], 0, data[\"d\"].iloc[0] - data[\"dErr\"].iloc[0]],\r\n",
    "\t\t[data[erange].iloc[0] + data.iloc[0,5], 4, data[\"d\"].iloc[0] + data[\"dErr\"].iloc[0]]\r\n",
    "\t)\r\n",
    "\treturn curve_fit(attenuation, data[\"d\"], data[erange], p0=initial_guesses, bounds=bounds)"
   ],
   "outputs": [],
   "metadata": {}
  },
  {
   "cell_type": "markdown",
   "source": [
    "Hier wird abschließend eine Funktion definiert, die nacheinander die übergebenen Messdaten extrahiert und getrennt nach Energiefenstern in einem Plot aufträgt. Zu bemerken ist hier im Grunde nur die Funktion ``getattr()``, die als Argumente einerseits das Objekt nimmt, um das es geht und andererseits das Attribut (des Objektes) von Interesse (siehe ``PlottyStuff()``). Output sind dann die im Attribut enthaltenen Werte.\r\n",
    "\r\n",
    "Primäre Argumente der Funktion sind das Datenset selbst, den Namen des betreffenden Isotops als ``string`` (wird nur für die Diagramtitel verwendet) und drei optionale Schalter:\r\n",
    "* ``dark=<True/False>``: Schaltet zwischen hellem und dunklem Design um\r\n",
    "* ``debug=<True/False>``: zeigt horizontale und vertikale Linien an den Stellen der halben Zählrate bzw. der Halbwertschichtdicke an (oder eben nicht).\r\n",
    "* ``save2file=<True/False>``: nomen est omen - ob der Plot als lokale *\\[isotop\\].png* gespeichert werden soll."
   ],
   "metadata": {}
  },
  {
   "cell_type": "code",
   "execution_count": null,
   "source": [
    "def plottyfunct(dataset, isotope, *args, dark=False, save2file=False, verbose=False):\r\n",
    "    cm = 1/2.54 # inch to cm, imperial like meh\r\n",
    "    plt.style.use(\"classic\") # For some reason needs to be called each time to reliably apply other styles.\r\n",
    "    if dark == True:\r\n",
    "        # Nightowl mode\r\n",
    "        plt.style.use(\"dark_background\")\r\n",
    "    else:\r\n",
    "        plt.style.use(\"seaborn-bright\")\r\n",
    "    # Custom color map readable on either styles\r\n",
    "    color_map = {\r\n",
    "        \"None\": \"#ff0000\",\r\n",
    "        \"Al\": \"#c0c0c0\",\r\n",
    "        \"Cu\": \"#cfac00\",\r\n",
    "        \"Fe\": \"#7279af\",\r\n",
    "        \"Pb\": \"#737373\"}\r\n",
    "    densitys = {\r\n",
    "        \"Al\": 0.0027,\r\n",
    "        \"Cu\": 0.00896,\r\n",
    "        \"Fe\": 0.007874,\r\n",
    "        \"Pb\": 0.01134\r\n",
    "        }\r\n",
    "    atts = {\r\n",
    "        \"None\": \"matnone\",\r\n",
    "        \"Al\": \"matal\",\r\n",
    "        \"Cu\": \"matcu\",\r\n",
    "        \"Fe\": \"matfe\",\r\n",
    "        \"Pb\": \"matpb\"\r\n",
    "    }\r\n",
    "    bonusticks1, bonusticks2 = [], []\r\n",
    "    # Get the attributes of the PlottyStuff() object in order to have something to loop over\r\n",
    "    mats = [atts[arg] for arg in args if arg in atts]\r\n",
    "    eranges = dataset.erange\r\n",
    "    # Define the frame where the plots will live at\r\n",
    "    fig, (ax1, ax2) = plt.subplots(nrows=2, ncols=1, figsize=(50*cm, 40*cm))\r\n",
    "\r\n",
    "    # On to business\r\n",
    "    for i,mat in enumerate(mats):\r\n",
    "        stuff = getattr(dataset, mat)\r\n",
    "        \r\n",
    "        if mat != \"matnone\":\r\n",
    "            popt, pcov = get_vals(stuff, eranges[0])\r\n",
    "            perr = np.sqrt(np.diag(pcov))\r\n",
    "            generic_d = np.linspace(0, stuff[\"d\"].iloc[-1], 100)\r\n",
    "\r\n",
    "            label=(\r\n",
    "                \"{0}: $N_i$ = {1} $\\pm$ {2}, $\\mu$ = ({3} $\\pm$ {4}) $mm^{{-1}}$, $\\\\frac{{\\mu}}{{\\\\rho}}$ = ({5} $\\pm$ {6}), $d_{{1/2}}$ = ({7} $\\pm$ {8})\".format(\r\n",
    "                    args[i], round(popt[0]), round(perr[0]),\r\n",
    "                    round(popt[1], 4), str(round(perr[1], 4)),\r\n",
    "                    round(popt[1] / densitys[args[i]], 4), round(perr[1] / densitys[args[i]], 4),\r\n",
    "                    round(np.log(2) / popt[1], 2), round(0.5 * perr[1] * np.log(2) / popt[1]**2, 2)\r\n",
    "                    ))\r\n",
    "            ax1.plot(generic_d, attenuation(generic_d, *popt), color=color_map[args[i]], label=label)\r\n",
    "            if eranges[0] == \"72 keV\":\r\n",
    "                if args[i] == \"Fe\":\r\n",
    "                    ax1.plot(generic_d, attenuation_offset(generic_d, 9360, 0.337, 1.4, 7180), linestyle=\"--\", color=color_map[\"Fe\"], label=\"Fe: Manueller Fit\")\r\n",
    "                elif args[i] == \"Cu\":\r\n",
    "                    ax1.plot(generic_d, attenuation_offset(generic_d, 8300, 0.364, 1.15, 6970), linestyle=\"--\", color=color_map[\"Cu\"], label=\"Cu: Manueller Fit\")\r\n",
    "            if verbose == True:\r\n",
    "                print(\"{0} {1}: N0 {2}, N_incident {3}, u {4}, Delta d {5}\".format(eranges[0], args[i], round(attenuation(0, *popt)), round(popt[0]), popt[1], popt[2]))\r\n",
    "                ax1.axhline(attenuation(round(np.log(2) / popt[1], 2), *popt), color=color_map[args[i]], linestyle=':', alpha=0.9)\r\n",
    "                ax1.axvline(round(np.log(2) / popt[1], 2), color=color_map[args[i]], linestyle=':', alpha=0.9)\r\n",
    "            bonusticks1.append(attenuation(round(np.log(2) / popt[1], 2), *popt))\r\n",
    "            ax1.errorbar(stuff[\"d\"], stuff[eranges[0]], xerr=stuff[\"dErr\"], yerr=stuff[\"Err\"], linestyle='', color=color_map[args[i]], label=args[i])\r\n",
    "        else:\r\n",
    "            ax1.errorbar(stuff[\"d\"], stuff[eranges[0]], xerr=stuff[\"dErr\"], yerr=stuff[\"Err\"], linestyle='', color=color_map[args[i]], label=args[i])\r\n",
    "\r\n",
    "    for i,mat in enumerate(mats):\r\n",
    "        stuff = getattr(dataset, mat)\r\n",
    "        if mat != \"matnone\":\r\n",
    "            popt, pcov = get_vals(stuff, eranges[1])\r\n",
    "            perr = np.sqrt(np.diag(pcov))\r\n",
    "            generic_d = np.linspace(0, stuff[\"d\"].iloc[-1], 100)\r\n",
    "\r\n",
    "            label=(\r\n",
    "                \"{0}: $N_i$ = {1} $\\pm$ {2}, $\\mu$ = ({3} $\\pm$ {4}) $mm^{{-1}}$, $\\\\frac{{\\mu}}{{\\\\rho}}$ = ({5} $\\pm$ {6}), $d_{{1/2}}$ = ({7} $\\pm$ {8})\".format(\r\n",
    "                    args[i], round(popt[0]), round(perr[0]),\r\n",
    "                    round(popt[1], 4), str(round(perr[1], 4)),\r\n",
    "                    round(popt[1] / densitys[args[i]], 4), round(perr[1] / densitys[args[i]], 4),\r\n",
    "                    round(np.log(2) / popt[1], 2), round(0.5 * perr[1] * np.log(2) / popt[1]**2, 2)\r\n",
    "                    ))\r\n",
    "            ax2.plot(generic_d, attenuation(generic_d, *popt), color=color_map[args[i]], label=label)\r\n",
    "            if verbose == True:\r\n",
    "                print(\"{0} {1}: N0 {2}, N_incident {3}, u {4}, Delta d {5}\".format(eranges[1], args[i], round(attenuation(0, *popt)), round(popt[0]), popt[1], popt[2]))\r\n",
    "                ax2.axhline(attenuation(round(np.log(2) / popt[1], 2), *popt), color=color_map[args[i]], linestyle=':', alpha=0.9)\r\n",
    "                ax2.axvline(round(np.log(2) / popt[1], 2), color=color_map[args[i]], linestyle=':', alpha=0.9)\r\n",
    "            bonusticks2.append(attenuation(round(np.log(2) / popt[1], 2), *popt))\r\n",
    "            ax2.errorbar(stuff[\"d\"], stuff[eranges[1]], xerr=stuff[\"dErr\"], yerr=stuff[\"Err.1\"], linestyle='', color=color_map[args[i]], label=args[i])\r\n",
    "        else:\r\n",
    "            ax2.errorbar(stuff[\"d\"], stuff[eranges[1]], xerr=stuff[\"dErr\"], yerr=stuff[\"Err.1\"], linestyle='', color=color_map[args[i]], label=args[i])\r\n",
    "\r\n",
    "    ax1.set_xlabel(\"Absorbermaterial Dicke / $mm$\")\r\n",
    "    ax2.set_xlabel(\"Absorbermaterial Dicke / $mm$\")\r\n",
    "    ax1.set_ylabel(\"Zählrate / $cps$\")\r\n",
    "    ax2.set_ylabel(\"Zählrate / $cps$\")\r\n",
    "    ax1.set_xlim(left=-1, right=None)\r\n",
    "    ax2.set_xlim(left=-1, right=None)\r\n",
    "    ax1.set_title(isotope + \", \" + eranges[0])\r\n",
    "    ax2.set_title(isotope + \", \" + eranges[1])\r\n",
    "    ax1.legend(prop={\"size\": 11})\r\n",
    "    ax2.legend(prop={\"size\": 11})\r\n",
    "    ax1.set_yticks(ticks=(list(ax1.get_yticks()) + bonusticks1))\r\n",
    "    ax2.set_yticks(ticks=(list(ax2.get_yticks()) + bonusticks2))\r\n",
    "    # ax1.grid(True, axis='both', alpha=.3)\r\n",
    "    # ax2.grid(True, axis='both', alpha=.3)\r\n",
    "\r\n",
    "    plt.tight_layout()\r\n",
    "    if save2file == True:\r\n",
    "        plt.savefig(\"./\" + isotope + \"_\" + \"\".join(args) + \".png\")"
   ],
   "outputs": [],
   "metadata": {}
  },
  {
   "cell_type": "markdown",
   "source": [
    "Dichte der verwendeten Materialien:\r\n",
    "* Blei: 11,34 $\\frac{mg}{mm^3}$\r\n",
    "* Kupfer: 8,96 $\\frac{mg}{mm^3}$\r\n",
    "* Eisen: 7,874 $\\frac{mg}{mm^3}$\r\n",
    "* Aluminium: 2,7 $\\frac{mg}{mm^3}$"
   ],
   "metadata": {}
  },
  {
   "cell_type": "code",
   "execution_count": null,
   "source": [
    "# Uncomment if following cells don't execute\r\n",
    "# !pip3 install ipywidgets ipympl --user"
   ],
   "outputs": [],
   "metadata": {}
  },
  {
   "cell_type": "markdown",
   "source": [
    "Die beiden nachfolgenden Zellen zeigen die Datenpunkte für das gemessene Isotop Radium-226 bei den Absorbermaterialien Eisen, Kupfer und Aluminium. Da die verwendeten Materialdicken für Blei wesentlich größer waren werden diese Plots zum Zwecke der Lesbarkeit in einer jeweils eigenen Grafik dargestellt."
   ],
   "metadata": {}
  },
  {
   "cell_type": "code",
   "execution_count": null,
   "source": [
    "%matplotlib widget\r\n",
    "stuff2plot = \"None\", \"Fe\", \"Al\", \"Cu\"\r\n",
    "plottyfunct(ra226_1, \"Ra-226\", *stuff2plot, dark=False, verbose=True)"
   ],
   "outputs": [],
   "metadata": {}
  },
  {
   "cell_type": "code",
   "execution_count": null,
   "source": [
    "stuff2plot = \"None\", \"Fe\", \"Al\", \"Cu\"\r\n",
    "plottyfunct(ra226_2, \"Ra-226\", *stuff2plot, dark=False, verbose=True)"
   ],
   "outputs": [],
   "metadata": {}
  },
  {
   "cell_type": "code",
   "execution_count": null,
   "source": [
    "stuff2plot = \"None\", \"Pb\"\r\n",
    "plottyfunct(ra226_1, \"Ra-226\", *stuff2plot, dark=False, verbose=True)"
   ],
   "outputs": [],
   "metadata": {}
  },
  {
   "cell_type": "code",
   "execution_count": null,
   "source": [
    "stuff2plot = \"None\", \"Pb\"\r\n",
    "plottyfunct(ra226_2, \"Ra-226\", *stuff2plot, dark=False, verbose=True)"
   ],
   "outputs": [],
   "metadata": {}
  },
  {
   "cell_type": "code",
   "execution_count": null,
   "source": [
    "stuff2plot = [\"Pb\"]\r\n",
    "plottyfunct(co60, \"Co-60\", *stuff2plot, dark=False, verbose=True)"
   ],
   "outputs": [],
   "metadata": {}
  },
  {
   "cell_type": "markdown",
   "source": [
    "Zu sehen sind die Datenpunkte aus den Messungen und als durch gezogene Linien die ermittelten Fits. Vertikale, gepunktete Linien kennzeichnen die jeweiligen Halbwertsschichtdicken (HSD) - horizontale und gestrichelt Linien die Zählraten bei der jeweiligen HSD.\r\n",
    "\r\n",
    "Im Plot für eine Quantenenergie von 72 keV fällt für die beiden Absorbermaterialien Eisen und Kupfer auf, dass die programmatisch gefundenen Fits vergleichsweise schlecht durch die Daten passen. In der Tat scheint es, als konvergierten sie gegen einen signifikant von 0 verschiedenen Offset der Zählrate.\r\n",
    "\r\n",
    "Tabelle 1\r\n",
    "|Fe\t\t\t\t|``curve_fit()``\t|manuell\t|Cu\t\t\t\t\t|``curve_fit()``|manuell\t\t|\r\n",
    "|:-------\t\t|:--------------\t|:----------|:--------\t\t\t|:-----------\t|:---------\t\t|\r\n",
    "|$N_0 / 1$\t\t|16409\t\t\t\t|9360\t\t|$N_0 / 1$\t\t\t|15287\t\t\t|8300\t\t\t|\r\n",
    "|$\\mu / mm^{-1}$|0.0726\t\t\t\t|0.337\t\t|$\\mu / mm^{-1}$\t|0.0689\t\t\t|0.364\t\t\t|\r\n",
    "|$\\Delta d / mm$|1.35\t\t\t\t|1.4\t\t|$\\Delta d / mm$\t|1.1\t\t\t|1.15\t\t\t|\r\n",
    "|$c / 1$\t\t|0\t\t\t\t\t|7180\t\t|$c / 1$\t\t\t|0\t\t\t\t|6970\t\t\t|\r\n",
    "\r\n",
    "Die beiden gestrichelt eingezeichneten Plots wurden durch manuelles finden passender Parameter ermittelt. Sie verlaufen zwar nicht optimal, jedoch augenscheinlich besser durch die Messdaten. Vergleich der durch ``curve_fit()`` gefundenen Parameter mit den manuell ermittelten zeigt Tab. 1.\r\n",
    "\r\n",
    "Ein systematischer Fehler während des Ablesens bzw. Aufzeichnens der Messdaten kann ausgeschlossen werden, da eine Subtraktion des Offsets von sämtlichen betreffenden Zählraten die Datenpunkte nicht mehr auf die Zählrate bei $d=0$ führen würde.\r\n",
    "\r\n",
    "Naheliegender ist, dass"
   ],
   "metadata": {}
  },
  {
   "cell_type": "code",
   "execution_count": null,
   "source": [
    "al = [27.78,20.18,12.23,10.42,9.276,7.802,6.146,5.496,5.006]\r\n",
    "fe = [120.5,59.52,14.6,10.99,9.4,7.704,5.995,5.35,4.883]\r\n",
    "cu = [159.3,76.3,15.59,11.19,9.413,7.625,5.901,5.261,4.803]\r\n",
    "pb = [502.1,241.9,99.85,40.31,23.23,12.48,7.102,5.876,5.222]\r\n",
    "al = [round(a*0.0027,4) for a in al]\r\n",
    "fe = [round(a*0.007874,4) for a in fe]\r\n",
    "cu = [round(a*0.00896,4) for a in cu]\r\n",
    "pb = [round(a*0.01134,4) for a in pb]\r\n",
    "al, fe, cu, pb"
   ],
   "outputs": [],
   "metadata": {}
  },
  {
   "cell_type": "markdown",
   "source": [
    "Das [*National Institute of Standards and Technology*](https://www.nist.gov/) (NIST) stellt eine detaillierte [Datenbank](https://physics.nist.gov/PhysRefData/XrayMassCoef/tab3.html) der energieabhängigen Massenabsorbtionskoeffizienten von elementaren, wie zusammen gesetzten Absorbermaterialien zur Verfügung.\r\n",
    "\r\n",
    "Den Daten des NIST entnommen zeigt Tab. 2 die zu erwartenden Werte für die $\\mu$, sowie für $\\frac{\\mu}{\\rho}$. Daneben sind die gefunden Werte der Messung aufgezeichnet.\r\n",
    "\r\n",
    "Tabelle 2\r\n",
    "| Material $\\rho / g \\cdot mm^{-3}$  | Energie / keV | $\\mu_{lit} / mm^{-1}$ | $\\frac{\\mu_{lit}}{\\rho} / mm^{2}\\cdot g^{-1}$ | $\\mu / mm^{-1}$      | $\\frac{\\mu}{\\rho} / mm^{2}\\cdot g^{-1}$ \t|\r\n",
    "|------------------------------------|---------------|-----------------------|-----------------------------------------------|----------------------|-------------------------------------------|\r\n",
    "| Al 0,0027                          | 72            | 0,0750 - 0,0545       | 27,78 - 20,18                                 | 0,0223 $\\pm$ 0,0008  | 8,2579 $\\pm$ 0,3017                 \t\t|\r\n",
    "|                                    | 241           | 0,033 - 0,0281        | 12,23 - 10,42                                 | 0,0127 $\\pm$ 0,0017  | 4,7177 $\\pm$ 0,6267            \t\t\t|\r\n",
    "|                                    | 351           | 0,0281 - 0,025        | 10,42 - 9,276                                 | 0,0177 $\\pm$ 0,0010  | 6,5439 $\\pm$ 0,3789             \t\t\t|\r\n",
    "|                                    | 609           | 0,0211                | 7,802                                         | 0,0162 $\\pm$ 0,0006  | 5,987 $\\pm$ 0,2372       \t\t\t\t\t|\r\n",
    "|                                    | 1172          | 0,0166 - 0,0148       | 6,146 - 5,496                                 | -                    | -                                       \t|\r\n",
    "|                                    | 1336          | 0,0148 - 0,0135       | 5,496 - 5,006                                 | -                \t| -                                        \t|\r\n",
    "| Fe 0,007874                        | 72            | 0,9488 - 0,4687       | 120,5 - 59,52                                 | 0,0726 $\\pm$ 0,0263  | 9,214 $\\pm$ 3,3422              \t\t\t|\r\n",
    "|                                    | 241           | 0,1150 - 0,0865       | 14,6 - 10,99                                  | 0,0375 $\\pm$ 0,0032  | 4,7568 $\\pm$ 0,4049                       |\r\n",
    "|                                    | 351           | 0,0865 - 0,0740       | 10,99 - 9,4                                   | 0,051 $\\pm$ 0,0021   | 6,5018 $\\pm$ 0,2729                       |\r\n",
    "|                                    | 609           | 0,0607                | 7,704                                         | 0,0431 $\\pm$ 0,0006  | 5,5453 $\\pm$ 0,072                        |\r\n",
    "|                                    | 1172          | 0,0472 - 0,0421       | 5,995 - 5,35                                  | -                \t| -                                        \t|\r\n",
    "|                                    | 1336          | 0,0421 - 0,0384       | 5,35 - 4,883                                  | -                \t| -                                        \t|\r\n",
    "| Cu 0,00896                         | 72            | 2,3412 - 1,4273       | 159,3 - 76,3                                 | 0,0689 $\\pm$ 0,0380 \t| 7,6918 $\\pm$ 4,2361         \t\t\t\t|\r\n",
    "|                                    | 241           | 0,1397 - 0,1003       | 15,59 - 11,19                                 | 0,0415 $\\pm$ 0,0024  | 4,6354 $\\pm$ 0,2646                       |\r\n",
    "|                                    | 351           | 0,1003 - 0,0843       | 11,19 - 9,413                                 | 0,0548 $\\pm$ 0,0025 \t| 6,1165 $\\pm$ 0,2761     \t\t\t\t\t|\r\n",
    "|                                    | 609           | 0,0683                | 7,625                                         | 0,0445 $\\pm$ 0,0005 \t| 4,9641 $\\pm$ 0,0597                       |\r\n",
    "|                                    | 1172          | 0,0529 - 0,0471       | 5,901 - 5,261                                 | -                \t| -                                        \t|\r\n",
    "|                                    | 1336          | 0,0471 - 0,0430       | 5,261 - 4,803                                 | -                \t| -                                        \t|\r\n",
    "| Pb 0,01134                         | 72            | 5,6938 - 2,7431       | 502,1 - 241,9                                 | 0,0318 $\\pm$ 0,0143 \t| 2,7998 $\\pm$ 1,2589       \t\t\t\t|\r\n",
    "|                                    | 241           | 1,1323 - 4,571        | 99,85 - 40,31                                 | 0,0414 $\\pm$ 0,0251 \t| 3,655 $\\pm$ 2,211        \t\t\t\t\t|\r\n",
    "|                                    | 351           | 0,4571 - 0,2634       | 40,31 - 23,23                                 | 0,0521 $\\pm$ 0,0092 \t| 4,5962 $\\pm$ 0,8076        \t\t\t\t|\r\n",
    "|                                    | 609           | 0,1415                | 12,48                                         | 0,0749 $\\pm$ 0,0043 \t| 6,6033 $\\pm$ 0,3775           \t\t\t|\r\n",
    "|                                    | 1172          | 0,0805 - 0,0666       | 7,102 - 5,876                                 | 0,057 $\\pm$ 0,0062  \t| 5,0292 $\\pm$ 0,5506      \t\t\t\t\t|\r\n",
    "|                                    | 1336          | 0,0666 - 0,0592       | 5,876 - 5,222                                 | 0,0564 $\\pm$ 0,0006 \t| 4,9741 $\\pm$ 0,0554            \t\t\t|"
   ],
   "metadata": {}
  },
  {
   "cell_type": "markdown",
   "source": [
    "Die Abweichungen der gefundenen Werte sind relativ hoch. Dennoch über- oder unterschreiten die Literaturwerte die gefundenen teilweise deutlich.\r\n",
    "\r\n",
    "Es lassen sich jedoch Trends erkennen: die Abweichungen der ermittelten zu den Literaturwerten steigen mit der Kernladungszahl des Absorbermaterials und dem Reziproken der Photon-Energie.\r\n",
    "\r\n",
    "Die Vermutung liegt nahe, dass die Anzahl der Messungen je Element erhöht werden muss was mit einer feineren Abstufung der Absorberdicken einher geht."
   ],
   "metadata": {}
  },
  {
   "cell_type": "code",
   "execution_count": 107,
   "source": [
    "paths = [\"./referenzen/iron.csv\", \"./referenzen/copper.csv\", \"./referenzen/aluminum.csv\", \"./referenzen/lead.csv\"]\r\n",
    "lits = []\r\n",
    "\r\n",
    "for path in paths:\r\n",
    "    with open(path, newline='', encoding='utf-8') as pa:\r\n",
    "        lits.append(pd.read_csv(pa, delimiter=';'))\r\n",
    "\r\n",
    "scatter_data = [\r\n",
    "    [9.214, 4.7568, 6.5018, 5.5453, 0, 0], # fe\r\n",
    "    [7.6918, 4.6354, 6.1165, 4.9641, 0, 0], # cu\r\n",
    "    [8.2579, 4.7177, 6.5439, 5.987, 0, 0], # al\r\n",
    "    [2.7998, 3.655, 4.5962, 6.6033, 5.0292, 4.9741]] # pb\r\n",
    "scatter_data = [[0.01 * u for u in scatter_data[i]] for i in range(len(scatter_data))]\r\n",
    "\r\n",
    "cm = 1/2.54\r\n",
    "ct = 0\r\n",
    "fig, axs = plt.subplots(2,2, figsize=(45*cm, 35*cm))\r\n",
    "for i,row in enumerate(axs[0]):\r\n",
    "    for j,col in enumerate(axs[1]):\r\n",
    "        axs[i,j].plot(lits[ct][\"1\"], lits[ct][\"2\"]) # fe, cu, al, pb\r\n",
    "        axs[i,j].scatter([0.072,0.241,0.351,0.609, 1.1172, 1.336], scatter_data[ct][:], marker=\"+\")\r\n",
    "        ct += 1\r\n",
    "        axs[i,j].set_yscale(\"log\")\r\n",
    "        axs[i,j].set_xscale(\"log\")\r\n",
    "        axs[i,j].grid(which=\"both\", linestyle=\"-\", alpha=.2)\r\n",
    "        axs[i,j].set_xlim(left=10**-3, right=20)\r\n",
    "        axs[i,j].set_xlabel(\"Energie ($h\\\\nu$) / MeV\")\r\n",
    "        axs[i,j].set_ylabel(\"Dämpfung / $cm^2 \\cdot g^{-1}$\")\r\n",
    "axs[0,0].set_title(\"Fe, Z 26\")\r\n",
    "axs[0,1].set_title(\"Cu, Z 29\")\r\n",
    "axs[1,0].set_title(\"Al, Z 13\")\r\n",
    "axs[1,1].set_title(\"Pb, Z 82\")\r\n",
    "plt.tight_layout()"
   ],
   "outputs": [
    {
     "output_type": "display_data",
     "data": {
      "text/plain": [
       "Canvas(toolbar=Toolbar(toolitems=[('Home', 'Reset original view', 'home', 'home'), ('Back', 'Back to previous …"
      ],
      "application/vnd.jupyter.widget-view+json": {
       "version_major": 2,
       "version_minor": 0,
       "model_id": "faadffb805104d1990eeb8d4e7a37d39"
      }
     },
     "metadata": {}
    }
   ],
   "metadata": {}
  }
 ]
}