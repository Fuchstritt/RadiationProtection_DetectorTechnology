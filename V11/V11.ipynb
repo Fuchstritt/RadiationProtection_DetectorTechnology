{
 "metadata": {
  "language_info": {
   "codemirror_mode": {
    "name": "ipython",
    "version": 3
   },
   "file_extension": ".py",
   "mimetype": "text/x-python",
   "name": "python",
   "nbconvert_exporter": "python",
   "pygments_lexer": "ipython3",
   "version": 3
  },
  "orig_nbformat": 2
 },
 "nbformat": 4,
 "nbformat_minor": 2,
 "cells": [
  {
   "source": [
    "# Vorbereitung  \n",
    "## Spektrometrische Messverfahren für $\\alpha$-Strahlen  \n",
    "__Ionisationskammer__: Gasvolumen zwischen zwei Elektroden einer Spannung $U$. Ist $U$ ausreichend hoch, gelangen alle entstehenden Ionen zu den Elektroden und tragen zum Messstrom bei. In diesem Bereich hängt der Messtrom nurnoch von der Größe des Gasvolumens und der Probe selbst ab.  \n",
    "__Halbleiterzähler__: Spezielle, niedrig dotierte Diode. Ionisierende Teilchen (hier $\\alpha$) erzeugen am pn-Übergang Elektron-Loch-Paare die im Feld des pn-Übergangs getrennt und über seitliche Elektroden abfließen. Diese Ladungsträger wiederum erzeugen an einem Widerstand einen messbaren Spannungsabfall der proportional zum Ionisationsvermögen und damit der Energie der Strahlung ist.  \n"
   ],
   "cell_type": "markdown",
   "metadata": {}
  },
  {
   "source": [
    "## Oberflächensperrschichtdetektoren  \n",
    "Basierend auf dem Prinzip der _Schottky_-Diode. Eine Metall-Halbleiterdiode wird in Sperrrichtung mit einer Gleichspannung Betrieben. Bei Ionisation an der Grenzschicht entstehen bewegliche Ladungsträger die als Strompuls messbar sind. Vorteil ist durch ihre geringe Dicke/Baugröße eine gute Messbarkeit von $\\alpha$-Strahlung (geringe Eindringtiefe)."
   ],
   "cell_type": "markdown",
   "metadata": {}
  },
  {
   "source": [
    "## Radium 226, Radium Folgeprodukte  \n",
    "\\begin{align}\n",
    "    ^{226}_{80}\\text{Ra} &\\longrightarrow ^{222}_{86}\\text{Rn} + \\alpha (+ \\gamma_{186 keV}) \\\\\n",
    "    ^{222}_{86}\\text{Rn} &\\longrightarrow ^{218}_{84}\\text{Po} + \\alpha \\\\\n",
    "    ^{218}_{84}\\text{Po} &\\longrightarrow ^{214}_{82}\\text{Pb} + \\alpha \\\\\n",
    "    ^{214}_{82}\\text{Pb} &\\longrightarrow ^{214}_{83}\\text{Bi} + \\beta^- (+\\gamma_{352, 295, 242, 53 keV} \\\\\n",
    "    ^{214}_{83}\\text{Bi} &\\longrightarrow ^{214}_{84}\\text{Po} + \\beta^- (+\\gamma_{609 keV} \\\\\n",
    "    ...\n",
    "\\end{align}"
   ],
   "cell_type": "markdown",
   "metadata": {}
  },
  {
   "cell_type": "code",
   "execution_count": null,
   "metadata": {},
   "outputs": [],
   "source": []
  },
  {
   "cell_type": "code",
   "execution_count": null,
   "metadata": {},
   "outputs": [],
   "source": []
  },
  {
   "source": [
    "## Zerfallsgesetz, Erweitertes Zerfallsgesetz  \n",
    "\\begin{equation}\n",
    "\tN(t) = N_0 \\cdot e^{-\\frac{t}{\\tau}}\n",
    "\\end{equation}"
   ],
   "cell_type": "markdown",
   "metadata": {}
  },
  {
   "source": [
    "## Vielkanalimpulshöhenanalysator, ADC  \n",
    "Impulse werden anhand ihrer Amplitude und Pulsrate klassifiziert. Im internen __A__nalog-__D__igital-__C__onverter werden die Impulse - nach dem sie z.B. in einem Halbleiterdetektor ausgelößt und von einem Vorverstärker verstärkt wurden - nach ihrer Amplitude digitalisiert und an nachgeordnete Auswerteelektronik weiter gereicht."
   ],
   "cell_type": "markdown",
   "metadata": {}
  },
  {
   "source": [
    "## Entstehung des Impulshöhenspektrums, Energiekalibrierung  \n",
    "Werden die Impulse nach Anzahl in der Veretikalen und Amplitude in der Horizontalen aufgetragen wird das entstehende Histogram Impulshöhenspektrum genannt. Es ist anzunehmen, dass die Impulshöhenverteilung bei einer bestimmten Strahlenquelle um eine definierte Energie normalverteilt ist. Mit einem bekannten Strahler wird zur Energiekalibrierung die Glocke entsprechend horizontal verschoben."
   ],
   "cell_type": "markdown",
   "metadata": {}
  },
  {
   "source": [
    "## Zerfall von Am-241, $\\alpha$-Energien  \n",
    "$T_{1/2} = 432,2 a$  \n",
    "\\begin{equation}\n",
    "\t^{241}_{95}\\text{Am} \\longrightarrow ^{237}_{93}\\text{Np} + \\alpha + \\gamma_{59,5409 keV}\n",
    "\\end{equation}\n",
    "Zu erwartende $\\alpha$-Energien: $5,486 \\text{MeV}$ (85%), $5,443 \\text{MeV}$ (13%) und $5,388 \\text{MeV}$ (2%)."
   ],
   "cell_type": "markdown",
   "metadata": {}
  },
  {
   "source": [
    "## Reichweite von $\\alpha$-Teilchen, Vorabsorption  \n",
    "![alt text](referenzen/a-reichweite.jpg \"Reichweite von $\\alpha$-Teilchen durch Materie\")  \n",
    "Quelle: Eichler, Kronfeldt, Sahm - \"Das neue physikalische Grundpraktikum\", 2016  \n",
    "_Bragg_-Beziehung."
   ],
   "cell_type": "markdown",
   "metadata": {}
  },
  {
   "source": [
    "## Alphaspektrometer (Bedienungsanleitung) "
   ],
   "cell_type": "markdown",
   "metadata": {}
  },
  {
   "source": [
    "## Nulleffekts  \n",
    "Zählrate $\\neq 0$ bei Abwesenheit des untersuchten Strahlers.  \n",
    "Ursächlich sind hier meist natürliche und/oder kosmische Hintergrundstrahlung. Im Falle des Halbleiterdetektors können aber auch Tunneleffekte an der Grenzschicht false-positives erzeugen. Die Nullrate muss im Vorfeld gemessen werden um die Abweichung der eigentlichen Messung zu minimieren."
   ],
   "cell_type": "markdown",
   "metadata": {}
  }
 ]
}